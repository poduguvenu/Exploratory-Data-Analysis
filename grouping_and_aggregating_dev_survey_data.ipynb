{
  "nbformat": 4,
  "nbformat_minor": 0,
  "metadata": {
    "kernelspec": {
      "display_name": "Python 3",
      "language": "python",
      "name": "python3"
    },
    "language_info": {
      "codemirror_mode": {
        "name": "ipython",
        "version": 3
      },
      "file_extension": ".py",
      "mimetype": "text/x-python",
      "name": "python",
      "nbconvert_exporter": "python",
      "pygments_lexer": "ipython3",
      "version": "3.7.6"
    },
    "colab": {
      "name": "grouping-and-aggregating-dev-survey-data.ipynb",
      "provenance": []
    }
  },
  "cells": [
    {
      "cell_type": "markdown",
      "metadata": {
        "id": "ENGvMXjJ9CAS"
      },
      "source": [
        "# Python Pandas Grouping and Aggregating - Analyzing and Exploting Data\n",
        "---\n",
        "In this Python Programming notebook, we will be learning how to group and aggregate our data. We will be able to answer questions such as: \"What is the most popular social media site for each country?\" We will be using the groupby method, and also some aggregate functions such as mean, median, value_counts, etc. Let's get started..."
      ]
    },
    {
      "cell_type": "markdown",
      "metadata": {
        "id": "cP4mCUHi-b5L"
      },
      "source": [
        "> ## Import Required Modules"
      ]
    },
    {
      "cell_type": "code",
      "metadata": {
        "id": "GQsYlbPZ-G3Z"
      },
      "source": [
        "import pandas as pd"
      ],
      "execution_count": 3,
      "outputs": []
    },
    {
      "cell_type": "markdown",
      "metadata": {
        "id": "Z-D1KdhM-92B"
      },
      "source": [
        "> ## Import the Dataset"
      ]
    },
    {
      "cell_type": "code",
      "metadata": {
        "id": "E2HV-AbU-kk0"
      },
      "source": [
        "df = pd.read_csv('./survey_results_public.csv', index_col='Respondent')\n",
        "schema_df = pd.read_csv('./survey_results_schema.csv', index_col='Column')"
      ],
      "execution_count": 4,
      "outputs": []
    },
    {
      "cell_type": "code",
      "metadata": {
        "colab": {
          "base_uri": "https://localhost:8080/",
          "height": 410
        },
        "id": "JQlDR6eR_Nu8",
        "outputId": "28e32143-334a-4489-9e86-2f209465cad7"
      },
      "source": [
        "df.head(3)"
      ],
      "execution_count": 6,
      "outputs": [
        {
          "output_type": "execute_result",
          "data": {
            "text/html": [
              "<div>\n",
              "<style scoped>\n",
              "    .dataframe tbody tr th:only-of-type {\n",
              "        vertical-align: middle;\n",
              "    }\n",
              "\n",
              "    .dataframe tbody tr th {\n",
              "        vertical-align: top;\n",
              "    }\n",
              "\n",
              "    .dataframe thead th {\n",
              "        text-align: right;\n",
              "    }\n",
              "</style>\n",
              "<table border=\"1\" class=\"dataframe\">\n",
              "  <thead>\n",
              "    <tr style=\"text-align: right;\">\n",
              "      <th></th>\n",
              "      <th>MainBranch</th>\n",
              "      <th>Hobbyist</th>\n",
              "      <th>Age</th>\n",
              "      <th>Age1stCode</th>\n",
              "      <th>CompFreq</th>\n",
              "      <th>CompTotal</th>\n",
              "      <th>ConvertedComp</th>\n",
              "      <th>Country</th>\n",
              "      <th>CurrencyDesc</th>\n",
              "      <th>CurrencySymbol</th>\n",
              "      <th>DatabaseDesireNextYear</th>\n",
              "      <th>DatabaseWorkedWith</th>\n",
              "      <th>DevType</th>\n",
              "      <th>EdLevel</th>\n",
              "      <th>Employment</th>\n",
              "      <th>Ethnicity</th>\n",
              "      <th>Gender</th>\n",
              "      <th>JobFactors</th>\n",
              "      <th>JobSat</th>\n",
              "      <th>JobSeek</th>\n",
              "      <th>LanguageDesireNextYear</th>\n",
              "      <th>LanguageWorkedWith</th>\n",
              "      <th>MiscTechDesireNextYear</th>\n",
              "      <th>MiscTechWorkedWith</th>\n",
              "      <th>NEWCollabToolsDesireNextYear</th>\n",
              "      <th>NEWCollabToolsWorkedWith</th>\n",
              "      <th>NEWDevOps</th>\n",
              "      <th>NEWDevOpsImpt</th>\n",
              "      <th>NEWEdImpt</th>\n",
              "      <th>NEWJobHunt</th>\n",
              "      <th>NEWJobHuntResearch</th>\n",
              "      <th>NEWLearn</th>\n",
              "      <th>NEWOffTopic</th>\n",
              "      <th>NEWOnboardGood</th>\n",
              "      <th>NEWOtherComms</th>\n",
              "      <th>NEWOvertime</th>\n",
              "      <th>NEWPurchaseResearch</th>\n",
              "      <th>NEWPurpleLink</th>\n",
              "      <th>NEWSOSites</th>\n",
              "      <th>NEWStuck</th>\n",
              "      <th>OpSys</th>\n",
              "      <th>OrgSize</th>\n",
              "      <th>PlatformDesireNextYear</th>\n",
              "      <th>PlatformWorkedWith</th>\n",
              "      <th>PurchaseWhat</th>\n",
              "      <th>Sexuality</th>\n",
              "      <th>SOAccount</th>\n",
              "      <th>SOComm</th>\n",
              "      <th>SOPartFreq</th>\n",
              "      <th>SOVisitFreq</th>\n",
              "      <th>SurveyEase</th>\n",
              "      <th>SurveyLength</th>\n",
              "      <th>Trans</th>\n",
              "      <th>UndergradMajor</th>\n",
              "      <th>WebframeDesireNextYear</th>\n",
              "      <th>WebframeWorkedWith</th>\n",
              "      <th>WelcomeChange</th>\n",
              "      <th>WorkWeekHrs</th>\n",
              "      <th>YearsCode</th>\n",
              "      <th>YearsCodePro</th>\n",
              "    </tr>\n",
              "    <tr>\n",
              "      <th>Respondent</th>\n",
              "      <th></th>\n",
              "      <th></th>\n",
              "      <th></th>\n",
              "      <th></th>\n",
              "      <th></th>\n",
              "      <th></th>\n",
              "      <th></th>\n",
              "      <th></th>\n",
              "      <th></th>\n",
              "      <th></th>\n",
              "      <th></th>\n",
              "      <th></th>\n",
              "      <th></th>\n",
              "      <th></th>\n",
              "      <th></th>\n",
              "      <th></th>\n",
              "      <th></th>\n",
              "      <th></th>\n",
              "      <th></th>\n",
              "      <th></th>\n",
              "      <th></th>\n",
              "      <th></th>\n",
              "      <th></th>\n",
              "      <th></th>\n",
              "      <th></th>\n",
              "      <th></th>\n",
              "      <th></th>\n",
              "      <th></th>\n",
              "      <th></th>\n",
              "      <th></th>\n",
              "      <th></th>\n",
              "      <th></th>\n",
              "      <th></th>\n",
              "      <th></th>\n",
              "      <th></th>\n",
              "      <th></th>\n",
              "      <th></th>\n",
              "      <th></th>\n",
              "      <th></th>\n",
              "      <th></th>\n",
              "      <th></th>\n",
              "      <th></th>\n",
              "      <th></th>\n",
              "      <th></th>\n",
              "      <th></th>\n",
              "      <th></th>\n",
              "      <th></th>\n",
              "      <th></th>\n",
              "      <th></th>\n",
              "      <th></th>\n",
              "      <th></th>\n",
              "      <th></th>\n",
              "      <th></th>\n",
              "      <th></th>\n",
              "      <th></th>\n",
              "      <th></th>\n",
              "      <th></th>\n",
              "      <th></th>\n",
              "      <th></th>\n",
              "      <th></th>\n",
              "    </tr>\n",
              "  </thead>\n",
              "  <tbody>\n",
              "    <tr>\n",
              "      <th>1</th>\n",
              "      <td>I am a developer by profession</td>\n",
              "      <td>Yes</td>\n",
              "      <td>NaN</td>\n",
              "      <td>13</td>\n",
              "      <td>Monthly</td>\n",
              "      <td>NaN</td>\n",
              "      <td>NaN</td>\n",
              "      <td>Germany</td>\n",
              "      <td>European Euro</td>\n",
              "      <td>EUR</td>\n",
              "      <td>Microsoft SQL Server</td>\n",
              "      <td>Elasticsearch;Microsoft SQL Server;Oracle</td>\n",
              "      <td>Developer, desktop or enterprise applications;...</td>\n",
              "      <td>Master’s degree (M.A., M.S., M.Eng., MBA, etc.)</td>\n",
              "      <td>Independent contractor, freelancer, or self-em...</td>\n",
              "      <td>White or of European descent</td>\n",
              "      <td>Man</td>\n",
              "      <td>Languages, frameworks, and other technologies ...</td>\n",
              "      <td>Slightly satisfied</td>\n",
              "      <td>I am not interested in new job opportunities</td>\n",
              "      <td>C#;HTML/CSS;JavaScript</td>\n",
              "      <td>C#;HTML/CSS;JavaScript</td>\n",
              "      <td>.NET Core;Xamarin</td>\n",
              "      <td>.NET;.NET Core</td>\n",
              "      <td>Microsoft Teams;Microsoft Azure;Trello</td>\n",
              "      <td>Confluence;Jira;Slack;Microsoft Azure;Trello</td>\n",
              "      <td>No</td>\n",
              "      <td>Somewhat important</td>\n",
              "      <td>Fairly important</td>\n",
              "      <td>NaN</td>\n",
              "      <td>NaN</td>\n",
              "      <td>Once a year</td>\n",
              "      <td>Not sure</td>\n",
              "      <td>NaN</td>\n",
              "      <td>No</td>\n",
              "      <td>Often: 1-2 days per week or more</td>\n",
              "      <td>Start a free trial;Ask developers I know/work ...</td>\n",
              "      <td>Amused</td>\n",
              "      <td>Stack Overflow (public Q&amp;A for anyone who codes)</td>\n",
              "      <td>Visit Stack Overflow;Go for a walk or other ph...</td>\n",
              "      <td>Windows</td>\n",
              "      <td>2 to 9 employees</td>\n",
              "      <td>Android;iOS;Kubernetes;Microsoft Azure;Windows</td>\n",
              "      <td>Windows</td>\n",
              "      <td>NaN</td>\n",
              "      <td>Straight / Heterosexual</td>\n",
              "      <td>No</td>\n",
              "      <td>No, not at all</td>\n",
              "      <td>NaN</td>\n",
              "      <td>Multiple times per day</td>\n",
              "      <td>Neither easy nor difficult</td>\n",
              "      <td>Appropriate in length</td>\n",
              "      <td>No</td>\n",
              "      <td>Computer science, computer engineering, or sof...</td>\n",
              "      <td>ASP.NET Core</td>\n",
              "      <td>ASP.NET;ASP.NET Core</td>\n",
              "      <td>Just as welcome now as I felt last year</td>\n",
              "      <td>50.0</td>\n",
              "      <td>36</td>\n",
              "      <td>27</td>\n",
              "    </tr>\n",
              "    <tr>\n",
              "      <th>2</th>\n",
              "      <td>I am a developer by profession</td>\n",
              "      <td>No</td>\n",
              "      <td>NaN</td>\n",
              "      <td>19</td>\n",
              "      <td>NaN</td>\n",
              "      <td>NaN</td>\n",
              "      <td>NaN</td>\n",
              "      <td>United Kingdom</td>\n",
              "      <td>Pound sterling</td>\n",
              "      <td>GBP</td>\n",
              "      <td>NaN</td>\n",
              "      <td>NaN</td>\n",
              "      <td>Developer, full-stack;Developer, mobile</td>\n",
              "      <td>Bachelor’s degree (B.A., B.S., B.Eng., etc.)</td>\n",
              "      <td>Employed full-time</td>\n",
              "      <td>NaN</td>\n",
              "      <td>NaN</td>\n",
              "      <td>NaN</td>\n",
              "      <td>Very dissatisfied</td>\n",
              "      <td>I am not interested in new job opportunities</td>\n",
              "      <td>Python;Swift</td>\n",
              "      <td>JavaScript;Swift</td>\n",
              "      <td>React Native;TensorFlow;Unity 3D</td>\n",
              "      <td>React Native</td>\n",
              "      <td>Github;Slack</td>\n",
              "      <td>Confluence;Jira;Github;Gitlab;Slack</td>\n",
              "      <td>NaN</td>\n",
              "      <td>NaN</td>\n",
              "      <td>Fairly important</td>\n",
              "      <td>NaN</td>\n",
              "      <td>NaN</td>\n",
              "      <td>Once a year</td>\n",
              "      <td>Not sure</td>\n",
              "      <td>NaN</td>\n",
              "      <td>No</td>\n",
              "      <td>NaN</td>\n",
              "      <td>NaN</td>\n",
              "      <td>Amused</td>\n",
              "      <td>Stack Overflow (public Q&amp;A for anyone who code...</td>\n",
              "      <td>Visit Stack Overflow;Go for a walk or other ph...</td>\n",
              "      <td>MacOS</td>\n",
              "      <td>1,000 to 4,999 employees</td>\n",
              "      <td>iOS;Kubernetes;Linux;MacOS</td>\n",
              "      <td>iOS</td>\n",
              "      <td>I have little or no influence</td>\n",
              "      <td>NaN</td>\n",
              "      <td>Yes</td>\n",
              "      <td>Yes, definitely</td>\n",
              "      <td>Less than once per month or monthly</td>\n",
              "      <td>Multiple times per day</td>\n",
              "      <td>NaN</td>\n",
              "      <td>NaN</td>\n",
              "      <td>NaN</td>\n",
              "      <td>Computer science, computer engineering, or sof...</td>\n",
              "      <td>NaN</td>\n",
              "      <td>NaN</td>\n",
              "      <td>Somewhat more welcome now than last year</td>\n",
              "      <td>NaN</td>\n",
              "      <td>7</td>\n",
              "      <td>4</td>\n",
              "    </tr>\n",
              "    <tr>\n",
              "      <th>3</th>\n",
              "      <td>I code primarily as a hobby</td>\n",
              "      <td>Yes</td>\n",
              "      <td>NaN</td>\n",
              "      <td>15</td>\n",
              "      <td>NaN</td>\n",
              "      <td>NaN</td>\n",
              "      <td>NaN</td>\n",
              "      <td>Russian Federation</td>\n",
              "      <td>NaN</td>\n",
              "      <td>NaN</td>\n",
              "      <td>NaN</td>\n",
              "      <td>NaN</td>\n",
              "      <td>NaN</td>\n",
              "      <td>NaN</td>\n",
              "      <td>NaN</td>\n",
              "      <td>NaN</td>\n",
              "      <td>NaN</td>\n",
              "      <td>NaN</td>\n",
              "      <td>NaN</td>\n",
              "      <td>NaN</td>\n",
              "      <td>Objective-C;Python;Swift</td>\n",
              "      <td>Objective-C;Python;Swift</td>\n",
              "      <td>NaN</td>\n",
              "      <td>NaN</td>\n",
              "      <td>NaN</td>\n",
              "      <td>NaN</td>\n",
              "      <td>NaN</td>\n",
              "      <td>NaN</td>\n",
              "      <td>NaN</td>\n",
              "      <td>NaN</td>\n",
              "      <td>NaN</td>\n",
              "      <td>Once a decade</td>\n",
              "      <td>NaN</td>\n",
              "      <td>NaN</td>\n",
              "      <td>No</td>\n",
              "      <td>NaN</td>\n",
              "      <td>NaN</td>\n",
              "      <td>NaN</td>\n",
              "      <td>Stack Overflow (public Q&amp;A for anyone who codes)</td>\n",
              "      <td>NaN</td>\n",
              "      <td>Linux-based</td>\n",
              "      <td>NaN</td>\n",
              "      <td>NaN</td>\n",
              "      <td>NaN</td>\n",
              "      <td>NaN</td>\n",
              "      <td>NaN</td>\n",
              "      <td>Yes</td>\n",
              "      <td>Yes, somewhat</td>\n",
              "      <td>A few times per month or weekly</td>\n",
              "      <td>Daily or almost daily</td>\n",
              "      <td>Neither easy nor difficult</td>\n",
              "      <td>Appropriate in length</td>\n",
              "      <td>NaN</td>\n",
              "      <td>NaN</td>\n",
              "      <td>NaN</td>\n",
              "      <td>NaN</td>\n",
              "      <td>Somewhat more welcome now than last year</td>\n",
              "      <td>NaN</td>\n",
              "      <td>4</td>\n",
              "      <td>NaN</td>\n",
              "    </tr>\n",
              "  </tbody>\n",
              "</table>\n",
              "</div>"
            ],
            "text/plain": [
              "                                MainBranch Hobbyist  ...  YearsCode YearsCodePro\n",
              "Respondent                                           ...                        \n",
              "1           I am a developer by profession      Yes  ...         36           27\n",
              "2           I am a developer by profession       No  ...          7            4\n",
              "3              I code primarily as a hobby      Yes  ...          4          NaN\n",
              "\n",
              "[3 rows x 60 columns]"
            ]
          },
          "metadata": {
            "tags": []
          },
          "execution_count": 6
        }
      ]
    },
    {
      "cell_type": "code",
      "metadata": {
        "colab": {
          "base_uri": "https://localhost:8080/",
          "height": 220
        },
        "id": "6w8gP1BV_PKS",
        "outputId": "a8612c4e-0ce1-4aa6-befe-04328644a4aa"
      },
      "source": [
        "schema_df.head()"
      ],
      "execution_count": 7,
      "outputs": [
        {
          "output_type": "execute_result",
          "data": {
            "text/html": [
              "<div>\n",
              "<style scoped>\n",
              "    .dataframe tbody tr th:only-of-type {\n",
              "        vertical-align: middle;\n",
              "    }\n",
              "\n",
              "    .dataframe tbody tr th {\n",
              "        vertical-align: top;\n",
              "    }\n",
              "\n",
              "    .dataframe thead th {\n",
              "        text-align: right;\n",
              "    }\n",
              "</style>\n",
              "<table border=\"1\" class=\"dataframe\">\n",
              "  <thead>\n",
              "    <tr style=\"text-align: right;\">\n",
              "      <th></th>\n",
              "      <th>QuestionText</th>\n",
              "    </tr>\n",
              "    <tr>\n",
              "      <th>Column</th>\n",
              "      <th></th>\n",
              "    </tr>\n",
              "  </thead>\n",
              "  <tbody>\n",
              "    <tr>\n",
              "      <th>Respondent</th>\n",
              "      <td>Randomized respondent ID number (not in order ...</td>\n",
              "    </tr>\n",
              "    <tr>\n",
              "      <th>MainBranch</th>\n",
              "      <td>Which of the following options best describes ...</td>\n",
              "    </tr>\n",
              "    <tr>\n",
              "      <th>Hobbyist</th>\n",
              "      <td>Do you code as a hobby?</td>\n",
              "    </tr>\n",
              "    <tr>\n",
              "      <th>Age</th>\n",
              "      <td>What is your age (in years)? If you prefer not...</td>\n",
              "    </tr>\n",
              "    <tr>\n",
              "      <th>Age1stCode</th>\n",
              "      <td>At what age did you write your first line of c...</td>\n",
              "    </tr>\n",
              "  </tbody>\n",
              "</table>\n",
              "</div>"
            ],
            "text/plain": [
              "                                                 QuestionText\n",
              "Column                                                       \n",
              "Respondent  Randomized respondent ID number (not in order ...\n",
              "MainBranch  Which of the following options best describes ...\n",
              "Hobbyist                              Do you code as a hobby?\n",
              "Age         What is your age (in years)? If you prefer not...\n",
              "Age1stCode  At what age did you write your first line of c..."
            ]
          },
          "metadata": {
            "tags": []
          },
          "execution_count": 7
        }
      ]
    },
    {
      "cell_type": "code",
      "metadata": {
        "colab": {
          "base_uri": "https://localhost:8080/"
        },
        "id": "6TuBIDaF_Wka",
        "outputId": "7188d796-f7e3-4a19-95bd-378f18760d4d"
      },
      "source": [
        "df.shape, schema_df.shape"
      ],
      "execution_count": 8,
      "outputs": [
        {
          "output_type": "execute_result",
          "data": {
            "text/plain": [
              "((55681, 60), (61, 1))"
            ]
          },
          "metadata": {
            "tags": []
          },
          "execution_count": 8
        }
      ]
    },
    {
      "cell_type": "code",
      "metadata": {
        "id": "76N1xCcx_D2t"
      },
      "source": [
        "pd.set_option('display.max_columns', 85)\n",
        "pd.set_option('display.max_rows', 85)"
      ],
      "execution_count": 9,
      "outputs": []
    },
    {
      "cell_type": "code",
      "metadata": {
        "colab": {
          "base_uri": "https://localhost:8080/"
        },
        "id": "Z4gqL3I6_-5F",
        "outputId": "0b63bd3a-2e54-4bc4-a769-5ee2952bfbb1"
      },
      "source": [
        "df['ConvertedComp'].head(15)"
      ],
      "execution_count": 10,
      "outputs": [
        {
          "output_type": "execute_result",
          "data": {
            "text/plain": [
              "Respondent\n",
              "1          NaN\n",
              "2          NaN\n",
              "3          NaN\n",
              "4          NaN\n",
              "5          NaN\n",
              "6          NaN\n",
              "7          NaN\n",
              "8     116000.0\n",
              "9          NaN\n",
              "10     32315.0\n",
              "11     40070.0\n",
              "12     14268.0\n",
              "13     38916.0\n",
              "14     66000.0\n",
              "15         NaN\n",
              "Name: ConvertedComp, dtype: float64"
            ]
          },
          "metadata": {
            "tags": []
          },
          "execution_count": 10
        }
      ]
    },
    {
      "cell_type": "code",
      "metadata": {
        "colab": {
          "base_uri": "https://localhost:8080/"
        },
        "id": "C01UlU6tAJtE",
        "outputId": "44625db3-90c6-450c-ef64-d4b8cb69cd96"
      },
      "source": [
        "df['ConvertedComp'].median()"
      ],
      "execution_count": 11,
      "outputs": [
        {
          "output_type": "execute_result",
          "data": {
            "text/plain": [
              "54116.0"
            ]
          },
          "metadata": {
            "tags": []
          },
          "execution_count": 11
        }
      ]
    },
    {
      "cell_type": "code",
      "metadata": {
        "colab": {
          "base_uri": "https://localhost:8080/"
        },
        "id": "5bK-A1SjAOT3",
        "outputId": "ea0db5c9-65a2-40af-d650-5a30f44698eb"
      },
      "source": [
        "df.median()"
      ],
      "execution_count": 12,
      "outputs": [
        {
          "output_type": "execute_result",
          "data": {
            "text/plain": [
              "Age                 29.0\n",
              "CompTotal        65000.0\n",
              "ConvertedComp    54116.0\n",
              "WorkWeekHrs         40.0\n",
              "dtype: float64"
            ]
          },
          "metadata": {
            "tags": []
          },
          "execution_count": 12
        }
      ]
    },
    {
      "cell_type": "code",
      "metadata": {
        "colab": {
          "base_uri": "https://localhost:8080/",
          "height": 277
        },
        "id": "twm9eyF3AdZv",
        "outputId": "c29e8522-59cc-4c04-eaac-dd5b1cba6dc1"
      },
      "source": [
        "df.describe()"
      ],
      "execution_count": 13,
      "outputs": [
        {
          "output_type": "execute_result",
          "data": {
            "text/html": [
              "<div>\n",
              "<style scoped>\n",
              "    .dataframe tbody tr th:only-of-type {\n",
              "        vertical-align: middle;\n",
              "    }\n",
              "\n",
              "    .dataframe tbody tr th {\n",
              "        vertical-align: top;\n",
              "    }\n",
              "\n",
              "    .dataframe thead th {\n",
              "        text-align: right;\n",
              "    }\n",
              "</style>\n",
              "<table border=\"1\" class=\"dataframe\">\n",
              "  <thead>\n",
              "    <tr style=\"text-align: right;\">\n",
              "      <th></th>\n",
              "      <th>Age</th>\n",
              "      <th>CompTotal</th>\n",
              "      <th>ConvertedComp</th>\n",
              "      <th>WorkWeekHrs</th>\n",
              "    </tr>\n",
              "  </thead>\n",
              "  <tbody>\n",
              "    <tr>\n",
              "      <th>count</th>\n",
              "      <td>40989.000000</td>\n",
              "      <td>3.140900e+04</td>\n",
              "      <td>3.134600e+04</td>\n",
              "      <td>37144.000000</td>\n",
              "    </tr>\n",
              "    <tr>\n",
              "      <th>mean</th>\n",
              "      <td>30.920991</td>\n",
              "      <td>3.537556e+242</td>\n",
              "      <td>1.034642e+05</td>\n",
              "      <td>40.827710</td>\n",
              "    </tr>\n",
              "    <tr>\n",
              "      <th>std</th>\n",
              "      <td>9.565076</td>\n",
              "      <td>inf</td>\n",
              "      <td>2.237661e+05</td>\n",
              "      <td>17.841807</td>\n",
              "    </tr>\n",
              "    <tr>\n",
              "      <th>min</th>\n",
              "      <td>1.000000</td>\n",
              "      <td>0.000000e+00</td>\n",
              "      <td>0.000000e+00</td>\n",
              "      <td>1.000000</td>\n",
              "    </tr>\n",
              "    <tr>\n",
              "      <th>25%</th>\n",
              "      <td>24.000000</td>\n",
              "      <td>2.000000e+04</td>\n",
              "      <td>2.519800e+04</td>\n",
              "      <td>40.000000</td>\n",
              "    </tr>\n",
              "    <tr>\n",
              "      <th>50%</th>\n",
              "      <td>29.000000</td>\n",
              "      <td>6.500000e+04</td>\n",
              "      <td>5.411600e+04</td>\n",
              "      <td>40.000000</td>\n",
              "    </tr>\n",
              "    <tr>\n",
              "      <th>75%</th>\n",
              "      <td>35.000000</td>\n",
              "      <td>1.250000e+05</td>\n",
              "      <td>9.600000e+04</td>\n",
              "      <td>43.625000</td>\n",
              "    </tr>\n",
              "    <tr>\n",
              "      <th>max</th>\n",
              "      <td>279.000000</td>\n",
              "      <td>1.111111e+247</td>\n",
              "      <td>2.000000e+06</td>\n",
              "      <td>475.000000</td>\n",
              "    </tr>\n",
              "  </tbody>\n",
              "</table>\n",
              "</div>"
            ],
            "text/plain": [
              "                Age      CompTotal  ConvertedComp   WorkWeekHrs\n",
              "count  40989.000000   3.140900e+04   3.134600e+04  37144.000000\n",
              "mean      30.920991  3.537556e+242   1.034642e+05     40.827710\n",
              "std        9.565076            inf   2.237661e+05     17.841807\n",
              "min        1.000000   0.000000e+00   0.000000e+00      1.000000\n",
              "25%       24.000000   2.000000e+04   2.519800e+04     40.000000\n",
              "50%       29.000000   6.500000e+04   5.411600e+04     40.000000\n",
              "75%       35.000000   1.250000e+05   9.600000e+04     43.625000\n",
              "max      279.000000  1.111111e+247   2.000000e+06    475.000000"
            ]
          },
          "metadata": {
            "tags": []
          },
          "execution_count": 13
        }
      ]
    },
    {
      "cell_type": "code",
      "metadata": {
        "id": "lPNvwJ11AoOL"
      },
      "source": [
        "df.isnull().sum()"
      ],
      "execution_count": null,
      "outputs": []
    },
    {
      "cell_type": "code",
      "metadata": {
        "colab": {
          "base_uri": "https://localhost:8080/"
        },
        "id": "5Y3niR5SA4qN",
        "outputId": "4c5c6dfa-ee8f-47bd-9a06-5ae8cb8fce4a"
      },
      "source": [
        "df.ConvertedComp.count()"
      ],
      "execution_count": 15,
      "outputs": [
        {
          "output_type": "execute_result",
          "data": {
            "text/plain": [
              "31346"
            ]
          },
          "metadata": {
            "tags": []
          },
          "execution_count": 15
        }
      ]
    },
    {
      "cell_type": "code",
      "metadata": {
        "colab": {
          "base_uri": "https://localhost:8080/"
        },
        "id": "WWNoOtt0D031",
        "outputId": "70707488-e1f5-4274-e189-7e80a7c8d9c3"
      },
      "source": [
        "df.Hobbyist"
      ],
      "execution_count": 17,
      "outputs": [
        {
          "output_type": "execute_result",
          "data": {
            "text/plain": [
              "Respondent\n",
              "1        Yes\n",
              "2         No\n",
              "3        Yes\n",
              "4        Yes\n",
              "5        Yes\n",
              "        ... \n",
              "56794    Yes\n",
              "56795    Yes\n",
              "56796    Yes\n",
              "56797    Yes\n",
              "56798    Yes\n",
              "Name: Hobbyist, Length: 55681, dtype: object"
            ]
          },
          "metadata": {
            "tags": []
          },
          "execution_count": 17
        }
      ]
    },
    {
      "cell_type": "code",
      "metadata": {
        "colab": {
          "base_uri": "https://localhost:8080/"
        },
        "id": "G9-t96LXEEvB",
        "outputId": "11e9746f-911f-4b2c-d82c-ba5e9f3e1abb"
      },
      "source": [
        "df['Hobbyist'].value_counts()"
      ],
      "execution_count": 18,
      "outputs": [
        {
          "output_type": "execute_result",
          "data": {
            "text/plain": [
              "Yes    43413\n",
              "No     12231\n",
              "Name: Hobbyist, dtype: int64"
            ]
          },
          "metadata": {
            "tags": []
          },
          "execution_count": 18
        }
      ]
    },
    {
      "cell_type": "code",
      "metadata": {
        "colab": {
          "base_uri": "https://localhost:8080/"
        },
        "id": "gIj1tcH5ELPK",
        "outputId": "96baf301-b949-4965-bed7-3b7ea0f2b1cd"
      },
      "source": [
        "df['Hobbyist'].value_counts(normalize=True)"
      ],
      "execution_count": 19,
      "outputs": [
        {
          "output_type": "execute_result",
          "data": {
            "text/plain": [
              "Yes    0.780192\n",
              "No     0.219808\n",
              "Name: Hobbyist, dtype: float64"
            ]
          },
          "metadata": {
            "tags": []
          },
          "execution_count": 19
        }
      ]
    },
    {
      "cell_type": "code",
      "metadata": {
        "colab": {
          "base_uri": "https://localhost:8080/"
        },
        "id": "6SLbgkEtEQFS",
        "outputId": "0b692b0b-4a9b-4253-ee45-8f4c038d1096"
      },
      "source": [
        "df.columns"
      ],
      "execution_count": 22,
      "outputs": [
        {
          "output_type": "execute_result",
          "data": {
            "text/plain": [
              "Index(['MainBranch', 'Hobbyist', 'Age', 'Age1stCode', 'CompFreq', 'CompTotal',\n",
              "       'ConvertedComp', 'Country', 'CurrencyDesc', 'CurrencySymbol',\n",
              "       'DatabaseDesireNextYear', 'DatabaseWorkedWith', 'DevType', 'EdLevel',\n",
              "       'Employment', 'Ethnicity', 'Gender', 'JobFactors', 'JobSat', 'JobSeek',\n",
              "       'LanguageDesireNextYear', 'LanguageWorkedWith',\n",
              "       'MiscTechDesireNextYear', 'MiscTechWorkedWith',\n",
              "       'NEWCollabToolsDesireNextYear', 'NEWCollabToolsWorkedWith', 'NEWDevOps',\n",
              "       'NEWDevOpsImpt', 'NEWEdImpt', 'NEWJobHunt', 'NEWJobHuntResearch',\n",
              "       'NEWLearn', 'NEWOffTopic', 'NEWOnboardGood', 'NEWOtherComms',\n",
              "       'NEWOvertime', 'NEWPurchaseResearch', 'NEWPurpleLink', 'NEWSOSites',\n",
              "       'NEWStuck', 'OpSys', 'OrgSize', 'PlatformDesireNextYear',\n",
              "       'PlatformWorkedWith', 'PurchaseWhat', 'Sexuality', 'SOAccount',\n",
              "       'SOComm', 'SOPartFreq', 'SOVisitFreq', 'SurveyEase', 'SurveyLength',\n",
              "       'Trans', 'UndergradMajor', 'WebframeDesireNextYear',\n",
              "       'WebframeWorkedWith', 'WelcomeChange', 'WorkWeekHrs', 'YearsCode',\n",
              "       'YearsCodePro'],\n",
              "      dtype='object')"
            ]
          },
          "metadata": {
            "tags": []
          },
          "execution_count": 22
        }
      ]
    },
    {
      "cell_type": "code",
      "metadata": {
        "colab": {
          "base_uri": "https://localhost:8080/"
        },
        "id": "K-HkpHboGVZs",
        "outputId": "34e8e0f6-a585-43d9-e4d9-cddfd53e37f3"
      },
      "source": [
        "df['Country']"
      ],
      "execution_count": 30,
      "outputs": [
        {
          "output_type": "execute_result",
          "data": {
            "text/plain": [
              "Respondent\n",
              "1                   Germany\n",
              "2            United Kingdom\n",
              "3        Russian Federation\n",
              "4                   Albania\n",
              "5             United States\n",
              "                ...        \n",
              "56794          South Africa\n",
              "56795                France\n",
              "56796                Sweden\n",
              "56797              Thailand\n",
              "56798               Denmark\n",
              "Name: Country, Length: 55681, dtype: object"
            ]
          },
          "metadata": {
            "tags": []
          },
          "execution_count": 30
        }
      ]
    },
    {
      "cell_type": "code",
      "metadata": {
        "colab": {
          "base_uri": "https://localhost:8080/"
        },
        "id": "hx-QnUihHnW_",
        "outputId": "0b330e49-07a4-4387-ba0a-fa09d6a64236"
      },
      "source": [
        "df['Country'].value_counts()"
      ],
      "execution_count": 31,
      "outputs": [
        {
          "output_type": "execute_result",
          "data": {
            "text/plain": [
              "United States                         11109\n",
              "India                                  7301\n",
              "United Kingdom                         3474\n",
              "Germany                                3429\n",
              "Canada                                 1953\n",
              "                                      ...  \n",
              "Micronesia, Federated States of...        1\n",
              "Nauru                                     1\n",
              "Liechtenstein                             1\n",
              "Grenada                                   1\n",
              "Monaco                                    1\n",
              "Name: Country, Length: 180, dtype: int64"
            ]
          },
          "metadata": {
            "tags": []
          },
          "execution_count": 31
        }
      ]
    },
    {
      "cell_type": "code",
      "metadata": {
        "colab": {
          "base_uri": "https://localhost:8080/"
        },
        "id": "s5nD_UEdHtZn",
        "outputId": "aa235a35-20cc-40c0-c611-74921ca4ea0a"
      },
      "source": [
        "df['Country'].value_counts(normalize=True)"
      ],
      "execution_count": 32,
      "outputs": [
        {
          "output_type": "execute_result",
          "data": {
            "text/plain": [
              "United States                         0.200404\n",
              "India                                 0.131709\n",
              "United Kingdom                        0.062670\n",
              "Germany                               0.061858\n",
              "Canada                                0.035232\n",
              "                                        ...   \n",
              "Micronesia, Federated States of...    0.000018\n",
              "Nauru                                 0.000018\n",
              "Liechtenstein                         0.000018\n",
              "Grenada                               0.000018\n",
              "Monaco                                0.000018\n",
              "Name: Country, Length: 180, dtype: float64"
            ]
          },
          "metadata": {
            "tags": []
          },
          "execution_count": 32
        }
      ]
    },
    {
      "cell_type": "code",
      "metadata": {
        "id": "uCbVxSB3HxJU"
      },
      "source": [
        "country_grp = df.groupby(['Country'])"
      ],
      "execution_count": 33,
      "outputs": []
    },
    {
      "cell_type": "code",
      "metadata": {
        "colab": {
          "base_uri": "https://localhost:8080/",
          "height": 316
        },
        "id": "nufyahSDIANb",
        "outputId": "a2548d6f-ded2-43f6-d828-45462da9aeb5"
      },
      "source": [
        "country_grp.get_group('United States').head(2)"
      ],
      "execution_count": 35,
      "outputs": [
        {
          "output_type": "execute_result",
          "data": {
            "text/html": [
              "<div>\n",
              "<style scoped>\n",
              "    .dataframe tbody tr th:only-of-type {\n",
              "        vertical-align: middle;\n",
              "    }\n",
              "\n",
              "    .dataframe tbody tr th {\n",
              "        vertical-align: top;\n",
              "    }\n",
              "\n",
              "    .dataframe thead th {\n",
              "        text-align: right;\n",
              "    }\n",
              "</style>\n",
              "<table border=\"1\" class=\"dataframe\">\n",
              "  <thead>\n",
              "    <tr style=\"text-align: right;\">\n",
              "      <th></th>\n",
              "      <th>MainBranch</th>\n",
              "      <th>Hobbyist</th>\n",
              "      <th>Age</th>\n",
              "      <th>Age1stCode</th>\n",
              "      <th>CompFreq</th>\n",
              "      <th>CompTotal</th>\n",
              "      <th>ConvertedComp</th>\n",
              "      <th>Country</th>\n",
              "      <th>CurrencyDesc</th>\n",
              "      <th>CurrencySymbol</th>\n",
              "      <th>DatabaseDesireNextYear</th>\n",
              "      <th>DatabaseWorkedWith</th>\n",
              "      <th>DevType</th>\n",
              "      <th>EdLevel</th>\n",
              "      <th>Employment</th>\n",
              "      <th>Ethnicity</th>\n",
              "      <th>Gender</th>\n",
              "      <th>JobFactors</th>\n",
              "      <th>JobSat</th>\n",
              "      <th>JobSeek</th>\n",
              "      <th>LanguageDesireNextYear</th>\n",
              "      <th>LanguageWorkedWith</th>\n",
              "      <th>MiscTechDesireNextYear</th>\n",
              "      <th>MiscTechWorkedWith</th>\n",
              "      <th>NEWCollabToolsDesireNextYear</th>\n",
              "      <th>NEWCollabToolsWorkedWith</th>\n",
              "      <th>NEWDevOps</th>\n",
              "      <th>NEWDevOpsImpt</th>\n",
              "      <th>NEWEdImpt</th>\n",
              "      <th>NEWJobHunt</th>\n",
              "      <th>NEWJobHuntResearch</th>\n",
              "      <th>NEWLearn</th>\n",
              "      <th>NEWOffTopic</th>\n",
              "      <th>NEWOnboardGood</th>\n",
              "      <th>NEWOtherComms</th>\n",
              "      <th>NEWOvertime</th>\n",
              "      <th>NEWPurchaseResearch</th>\n",
              "      <th>NEWPurpleLink</th>\n",
              "      <th>NEWSOSites</th>\n",
              "      <th>NEWStuck</th>\n",
              "      <th>OpSys</th>\n",
              "      <th>OrgSize</th>\n",
              "      <th>PlatformDesireNextYear</th>\n",
              "      <th>PlatformWorkedWith</th>\n",
              "      <th>PurchaseWhat</th>\n",
              "      <th>Sexuality</th>\n",
              "      <th>SOAccount</th>\n",
              "      <th>SOComm</th>\n",
              "      <th>SOPartFreq</th>\n",
              "      <th>SOVisitFreq</th>\n",
              "      <th>SurveyEase</th>\n",
              "      <th>SurveyLength</th>\n",
              "      <th>Trans</th>\n",
              "      <th>UndergradMajor</th>\n",
              "      <th>WebframeDesireNextYear</th>\n",
              "      <th>WebframeWorkedWith</th>\n",
              "      <th>WelcomeChange</th>\n",
              "      <th>WorkWeekHrs</th>\n",
              "      <th>YearsCode</th>\n",
              "      <th>YearsCodePro</th>\n",
              "    </tr>\n",
              "    <tr>\n",
              "      <th>Respondent</th>\n",
              "      <th></th>\n",
              "      <th></th>\n",
              "      <th></th>\n",
              "      <th></th>\n",
              "      <th></th>\n",
              "      <th></th>\n",
              "      <th></th>\n",
              "      <th></th>\n",
              "      <th></th>\n",
              "      <th></th>\n",
              "      <th></th>\n",
              "      <th></th>\n",
              "      <th></th>\n",
              "      <th></th>\n",
              "      <th></th>\n",
              "      <th></th>\n",
              "      <th></th>\n",
              "      <th></th>\n",
              "      <th></th>\n",
              "      <th></th>\n",
              "      <th></th>\n",
              "      <th></th>\n",
              "      <th></th>\n",
              "      <th></th>\n",
              "      <th></th>\n",
              "      <th></th>\n",
              "      <th></th>\n",
              "      <th></th>\n",
              "      <th></th>\n",
              "      <th></th>\n",
              "      <th></th>\n",
              "      <th></th>\n",
              "      <th></th>\n",
              "      <th></th>\n",
              "      <th></th>\n",
              "      <th></th>\n",
              "      <th></th>\n",
              "      <th></th>\n",
              "      <th></th>\n",
              "      <th></th>\n",
              "      <th></th>\n",
              "      <th></th>\n",
              "      <th></th>\n",
              "      <th></th>\n",
              "      <th></th>\n",
              "      <th></th>\n",
              "      <th></th>\n",
              "      <th></th>\n",
              "      <th></th>\n",
              "      <th></th>\n",
              "      <th></th>\n",
              "      <th></th>\n",
              "      <th></th>\n",
              "      <th></th>\n",
              "      <th></th>\n",
              "      <th></th>\n",
              "      <th></th>\n",
              "      <th></th>\n",
              "      <th></th>\n",
              "      <th></th>\n",
              "    </tr>\n",
              "  </thead>\n",
              "  <tbody>\n",
              "    <tr>\n",
              "      <th>5</th>\n",
              "      <td>I used to be a developer by profession, but no...</td>\n",
              "      <td>Yes</td>\n",
              "      <td>31.0</td>\n",
              "      <td>16</td>\n",
              "      <td>NaN</td>\n",
              "      <td>NaN</td>\n",
              "      <td>NaN</td>\n",
              "      <td>United States</td>\n",
              "      <td>NaN</td>\n",
              "      <td>NaN</td>\n",
              "      <td>MySQL;PostgreSQL</td>\n",
              "      <td>MySQL;PostgreSQL;Redis;SQLite</td>\n",
              "      <td>NaN</td>\n",
              "      <td>Bachelor’s degree (B.A., B.S., B.Eng., etc.)</td>\n",
              "      <td>Employed full-time</td>\n",
              "      <td>White or of European descent</td>\n",
              "      <td>Man</td>\n",
              "      <td>NaN</td>\n",
              "      <td>NaN</td>\n",
              "      <td>NaN</td>\n",
              "      <td>Java;Ruby;Scala</td>\n",
              "      <td>HTML/CSS;Ruby;SQL</td>\n",
              "      <td>Ansible;Chef</td>\n",
              "      <td>Ansible</td>\n",
              "      <td>Github;Google Suite (Docs, Meet, etc)</td>\n",
              "      <td>Confluence;Jira;Github;Slack;Google Suite (Doc...</td>\n",
              "      <td>NaN</td>\n",
              "      <td>NaN</td>\n",
              "      <td>Very important</td>\n",
              "      <td>NaN</td>\n",
              "      <td>NaN</td>\n",
              "      <td>Once a year</td>\n",
              "      <td>No</td>\n",
              "      <td>NaN</td>\n",
              "      <td>Yes</td>\n",
              "      <td>NaN</td>\n",
              "      <td>Start a free trial;Ask developers I know/work ...</td>\n",
              "      <td>Hello, old friend</td>\n",
              "      <td>Stack Overflow (public Q&amp;A for anyone who code...</td>\n",
              "      <td>Call a coworker or friend;Visit Stack Overflow...</td>\n",
              "      <td>Windows</td>\n",
              "      <td>NaN</td>\n",
              "      <td>Docker;Google Cloud Platform;Heroku;Linux;Windows</td>\n",
              "      <td>AWS;Docker;Linux;MacOS;Windows</td>\n",
              "      <td>NaN</td>\n",
              "      <td>Straight / Heterosexual</td>\n",
              "      <td>Yes</td>\n",
              "      <td>Yes, somewhat</td>\n",
              "      <td>Less than once per month or monthly</td>\n",
              "      <td>A few times per month or weekly</td>\n",
              "      <td>Easy</td>\n",
              "      <td>Too short</td>\n",
              "      <td>No</td>\n",
              "      <td>Computer science, computer engineering, or sof...</td>\n",
              "      <td>Django;Ruby on Rails</td>\n",
              "      <td>Ruby on Rails</td>\n",
              "      <td>Just as welcome now as I felt last year</td>\n",
              "      <td>NaN</td>\n",
              "      <td>15</td>\n",
              "      <td>8</td>\n",
              "    </tr>\n",
              "    <tr>\n",
              "      <th>8</th>\n",
              "      <td>I am a developer by profession</td>\n",
              "      <td>Yes</td>\n",
              "      <td>36.0</td>\n",
              "      <td>12</td>\n",
              "      <td>Yearly</td>\n",
              "      <td>116000.0</td>\n",
              "      <td>116000.0</td>\n",
              "      <td>United States</td>\n",
              "      <td>United States dollar</td>\n",
              "      <td>USD</td>\n",
              "      <td>MongoDB</td>\n",
              "      <td>MariaDB;MySQL;Redis</td>\n",
              "      <td>Developer, back-end;Developer, desktop or ente...</td>\n",
              "      <td>Bachelor’s degree (B.A., B.S., B.Eng., etc.)</td>\n",
              "      <td>Employed full-time</td>\n",
              "      <td>White or of European descent</td>\n",
              "      <td>Man</td>\n",
              "      <td>Remote work options;Opportunities for professi...</td>\n",
              "      <td>Slightly dissatisfied</td>\n",
              "      <td>I’m not actively looking, but I am open to new...</td>\n",
              "      <td>JavaScript</td>\n",
              "      <td>Python;SQL</td>\n",
              "      <td>Unity 3D</td>\n",
              "      <td>Ansible</td>\n",
              "      <td>NaN</td>\n",
              "      <td>Confluence;Jira;Github;Slack;Microsoft Teams;G...</td>\n",
              "      <td>Yes</td>\n",
              "      <td>Extremely important</td>\n",
              "      <td>Not at all important/not necessary</td>\n",
              "      <td>Curious about other opportunities;Better compe...</td>\n",
              "      <td>Read company media, such as employee blogs or ...</td>\n",
              "      <td>Once a year</td>\n",
              "      <td>Not sure</td>\n",
              "      <td>Yes</td>\n",
              "      <td>No</td>\n",
              "      <td>Occasionally: 1-2 days per quarter but less th...</td>\n",
              "      <td>Start a free trial;Ask developers I know/work ...</td>\n",
              "      <td>Hello, old friend</td>\n",
              "      <td>Stack Overflow (public Q&amp;A for anyone who code...</td>\n",
              "      <td>Play games;Call a coworker or friend;Visit Sta...</td>\n",
              "      <td>Linux-based</td>\n",
              "      <td>20 to 99 employees</td>\n",
              "      <td>iOS;Slack Apps and Integrations</td>\n",
              "      <td>Docker</td>\n",
              "      <td>I have some influence</td>\n",
              "      <td>Straight / Heterosexual</td>\n",
              "      <td>Yes</td>\n",
              "      <td>No, not really</td>\n",
              "      <td>Less than once per month or monthly</td>\n",
              "      <td>Multiple times per day</td>\n",
              "      <td>Easy</td>\n",
              "      <td>Appropriate in length</td>\n",
              "      <td>No</td>\n",
              "      <td>Computer science, computer engineering, or sof...</td>\n",
              "      <td>Django;React.js;Vue.js</td>\n",
              "      <td>Flask</td>\n",
              "      <td>Just as welcome now as I felt last year</td>\n",
              "      <td>39.0</td>\n",
              "      <td>17</td>\n",
              "      <td>13</td>\n",
              "    </tr>\n",
              "  </tbody>\n",
              "</table>\n",
              "</div>"
            ],
            "text/plain": [
              "                                                   MainBranch Hobbyist   Age  \\\n",
              "Respondent                                                                     \n",
              "5           I used to be a developer by profession, but no...      Yes  31.0   \n",
              "8                              I am a developer by profession      Yes  36.0   \n",
              "\n",
              "           Age1stCode CompFreq  CompTotal  ConvertedComp        Country  \\\n",
              "Respondent                                                                \n",
              "5                  16      NaN        NaN            NaN  United States   \n",
              "8                  12   Yearly   116000.0       116000.0  United States   \n",
              "\n",
              "                    CurrencyDesc CurrencySymbol DatabaseDesireNextYear  \\\n",
              "Respondent                                                               \n",
              "5                            NaN            NaN       MySQL;PostgreSQL   \n",
              "8           United States dollar            USD                MongoDB   \n",
              "\n",
              "                       DatabaseWorkedWith  \\\n",
              "Respondent                                  \n",
              "5           MySQL;PostgreSQL;Redis;SQLite   \n",
              "8                     MariaDB;MySQL;Redis   \n",
              "\n",
              "                                                      DevType  \\\n",
              "Respondent                                                      \n",
              "5                                                         NaN   \n",
              "8           Developer, back-end;Developer, desktop or ente...   \n",
              "\n",
              "                                                 EdLevel          Employment  \\\n",
              "Respondent                                                                     \n",
              "5           Bachelor’s degree (B.A., B.S., B.Eng., etc.)  Employed full-time   \n",
              "8           Bachelor’s degree (B.A., B.S., B.Eng., etc.)  Employed full-time   \n",
              "\n",
              "                               Ethnicity Gender  \\\n",
              "Respondent                                        \n",
              "5           White or of European descent    Man   \n",
              "8           White or of European descent    Man   \n",
              "\n",
              "                                                   JobFactors  \\\n",
              "Respondent                                                      \n",
              "5                                                         NaN   \n",
              "8           Remote work options;Opportunities for professi...   \n",
              "\n",
              "                           JobSat  \\\n",
              "Respondent                          \n",
              "5                             NaN   \n",
              "8           Slightly dissatisfied   \n",
              "\n",
              "                                                      JobSeek  \\\n",
              "Respondent                                                      \n",
              "5                                                         NaN   \n",
              "8           I’m not actively looking, but I am open to new...   \n",
              "\n",
              "           LanguageDesireNextYear LanguageWorkedWith MiscTechDesireNextYear  \\\n",
              "Respondent                                                                    \n",
              "5                 Java;Ruby;Scala  HTML/CSS;Ruby;SQL           Ansible;Chef   \n",
              "8                      JavaScript         Python;SQL               Unity 3D   \n",
              "\n",
              "           MiscTechWorkedWith           NEWCollabToolsDesireNextYear  \\\n",
              "Respondent                                                             \n",
              "5                     Ansible  Github;Google Suite (Docs, Meet, etc)   \n",
              "8                     Ansible                                    NaN   \n",
              "\n",
              "                                     NEWCollabToolsWorkedWith NEWDevOps  \\\n",
              "Respondent                                                                \n",
              "5           Confluence;Jira;Github;Slack;Google Suite (Doc...       NaN   \n",
              "8           Confluence;Jira;Github;Slack;Microsoft Teams;G...       Yes   \n",
              "\n",
              "                  NEWDevOpsImpt                           NEWEdImpt  \\\n",
              "Respondent                                                            \n",
              "5                           NaN                      Very important   \n",
              "8           Extremely important  Not at all important/not necessary   \n",
              "\n",
              "                                                   NEWJobHunt  \\\n",
              "Respondent                                                      \n",
              "5                                                         NaN   \n",
              "8           Curious about other opportunities;Better compe...   \n",
              "\n",
              "                                           NEWJobHuntResearch     NEWLearn  \\\n",
              "Respondent                                                                   \n",
              "5                                                         NaN  Once a year   \n",
              "8           Read company media, such as employee blogs or ...  Once a year   \n",
              "\n",
              "           NEWOffTopic NEWOnboardGood NEWOtherComms  \\\n",
              "Respondent                                            \n",
              "5                   No            NaN           Yes   \n",
              "8             Not sure            Yes            No   \n",
              "\n",
              "                                                  NEWOvertime  \\\n",
              "Respondent                                                      \n",
              "5                                                         NaN   \n",
              "8           Occasionally: 1-2 days per quarter but less th...   \n",
              "\n",
              "                                          NEWPurchaseResearch  \\\n",
              "Respondent                                                      \n",
              "5           Start a free trial;Ask developers I know/work ...   \n",
              "8           Start a free trial;Ask developers I know/work ...   \n",
              "\n",
              "                NEWPurpleLink  \\\n",
              "Respondent                      \n",
              "5           Hello, old friend   \n",
              "8           Hello, old friend   \n",
              "\n",
              "                                                   NEWSOSites  \\\n",
              "Respondent                                                      \n",
              "5           Stack Overflow (public Q&A for anyone who code...   \n",
              "8           Stack Overflow (public Q&A for anyone who code...   \n",
              "\n",
              "                                                     NEWStuck        OpSys  \\\n",
              "Respondent                                                                   \n",
              "5           Call a coworker or friend;Visit Stack Overflow...      Windows   \n",
              "8           Play games;Call a coworker or friend;Visit Sta...  Linux-based   \n",
              "\n",
              "                       OrgSize  \\\n",
              "Respondent                       \n",
              "5                          NaN   \n",
              "8           20 to 99 employees   \n",
              "\n",
              "                                       PlatformDesireNextYear  \\\n",
              "Respondent                                                      \n",
              "5           Docker;Google Cloud Platform;Heroku;Linux;Windows   \n",
              "8                             iOS;Slack Apps and Integrations   \n",
              "\n",
              "                        PlatformWorkedWith           PurchaseWhat  \\\n",
              "Respondent                                                          \n",
              "5           AWS;Docker;Linux;MacOS;Windows                    NaN   \n",
              "8                                   Docker  I have some influence   \n",
              "\n",
              "                          Sexuality SOAccount          SOComm  \\\n",
              "Respondent                                                      \n",
              "5           Straight / Heterosexual       Yes   Yes, somewhat   \n",
              "8           Straight / Heterosexual       Yes  No, not really   \n",
              "\n",
              "                                     SOPartFreq  \\\n",
              "Respondent                                        \n",
              "5           Less than once per month or monthly   \n",
              "8           Less than once per month or monthly   \n",
              "\n",
              "                                SOVisitFreq SurveyEase           SurveyLength  \\\n",
              "Respondent                                                                      \n",
              "5           A few times per month or weekly       Easy              Too short   \n",
              "8                    Multiple times per day       Easy  Appropriate in length   \n",
              "\n",
              "           Trans                                     UndergradMajor  \\\n",
              "Respondent                                                            \n",
              "5             No  Computer science, computer engineering, or sof...   \n",
              "8             No  Computer science, computer engineering, or sof...   \n",
              "\n",
              "            WebframeDesireNextYear WebframeWorkedWith  \\\n",
              "Respondent                                              \n",
              "5             Django;Ruby on Rails      Ruby on Rails   \n",
              "8           Django;React.js;Vue.js              Flask   \n",
              "\n",
              "                                      WelcomeChange  WorkWeekHrs YearsCode  \\\n",
              "Respondent                                                                   \n",
              "5           Just as welcome now as I felt last year          NaN        15   \n",
              "8           Just as welcome now as I felt last year         39.0        17   \n",
              "\n",
              "           YearsCodePro  \n",
              "Respondent               \n",
              "5                     8  \n",
              "8                    13  "
            ]
          },
          "metadata": {
            "tags": []
          },
          "execution_count": 35
        }
      ]
    },
    {
      "cell_type": "code",
      "metadata": {
        "colab": {
          "base_uri": "https://localhost:8080/",
          "height": 316
        },
        "id": "XKmTuSg0IKU9",
        "outputId": "e9360e0d-7eb6-4023-c6f9-380bd1ef61d3"
      },
      "source": [
        "df.groupby(['Country']).get_group('India').head(2)"
      ],
      "execution_count": 36,
      "outputs": [
        {
          "output_type": "execute_result",
          "data": {
            "text/html": [
              "<div>\n",
              "<style scoped>\n",
              "    .dataframe tbody tr th:only-of-type {\n",
              "        vertical-align: middle;\n",
              "    }\n",
              "\n",
              "    .dataframe tbody tr th {\n",
              "        vertical-align: top;\n",
              "    }\n",
              "\n",
              "    .dataframe thead th {\n",
              "        text-align: right;\n",
              "    }\n",
              "</style>\n",
              "<table border=\"1\" class=\"dataframe\">\n",
              "  <thead>\n",
              "    <tr style=\"text-align: right;\">\n",
              "      <th></th>\n",
              "      <th>MainBranch</th>\n",
              "      <th>Hobbyist</th>\n",
              "      <th>Age</th>\n",
              "      <th>Age1stCode</th>\n",
              "      <th>CompFreq</th>\n",
              "      <th>CompTotal</th>\n",
              "      <th>ConvertedComp</th>\n",
              "      <th>Country</th>\n",
              "      <th>CurrencyDesc</th>\n",
              "      <th>CurrencySymbol</th>\n",
              "      <th>DatabaseDesireNextYear</th>\n",
              "      <th>DatabaseWorkedWith</th>\n",
              "      <th>DevType</th>\n",
              "      <th>EdLevel</th>\n",
              "      <th>Employment</th>\n",
              "      <th>Ethnicity</th>\n",
              "      <th>Gender</th>\n",
              "      <th>JobFactors</th>\n",
              "      <th>JobSat</th>\n",
              "      <th>JobSeek</th>\n",
              "      <th>LanguageDesireNextYear</th>\n",
              "      <th>LanguageWorkedWith</th>\n",
              "      <th>MiscTechDesireNextYear</th>\n",
              "      <th>MiscTechWorkedWith</th>\n",
              "      <th>NEWCollabToolsDesireNextYear</th>\n",
              "      <th>NEWCollabToolsWorkedWith</th>\n",
              "      <th>NEWDevOps</th>\n",
              "      <th>NEWDevOpsImpt</th>\n",
              "      <th>NEWEdImpt</th>\n",
              "      <th>NEWJobHunt</th>\n",
              "      <th>NEWJobHuntResearch</th>\n",
              "      <th>NEWLearn</th>\n",
              "      <th>NEWOffTopic</th>\n",
              "      <th>NEWOnboardGood</th>\n",
              "      <th>NEWOtherComms</th>\n",
              "      <th>NEWOvertime</th>\n",
              "      <th>NEWPurchaseResearch</th>\n",
              "      <th>NEWPurpleLink</th>\n",
              "      <th>NEWSOSites</th>\n",
              "      <th>NEWStuck</th>\n",
              "      <th>OpSys</th>\n",
              "      <th>OrgSize</th>\n",
              "      <th>PlatformDesireNextYear</th>\n",
              "      <th>PlatformWorkedWith</th>\n",
              "      <th>PurchaseWhat</th>\n",
              "      <th>Sexuality</th>\n",
              "      <th>SOAccount</th>\n",
              "      <th>SOComm</th>\n",
              "      <th>SOPartFreq</th>\n",
              "      <th>SOVisitFreq</th>\n",
              "      <th>SurveyEase</th>\n",
              "      <th>SurveyLength</th>\n",
              "      <th>Trans</th>\n",
              "      <th>UndergradMajor</th>\n",
              "      <th>WebframeDesireNextYear</th>\n",
              "      <th>WebframeWorkedWith</th>\n",
              "      <th>WelcomeChange</th>\n",
              "      <th>WorkWeekHrs</th>\n",
              "      <th>YearsCode</th>\n",
              "      <th>YearsCodePro</th>\n",
              "    </tr>\n",
              "    <tr>\n",
              "      <th>Respondent</th>\n",
              "      <th></th>\n",
              "      <th></th>\n",
              "      <th></th>\n",
              "      <th></th>\n",
              "      <th></th>\n",
              "      <th></th>\n",
              "      <th></th>\n",
              "      <th></th>\n",
              "      <th></th>\n",
              "      <th></th>\n",
              "      <th></th>\n",
              "      <th></th>\n",
              "      <th></th>\n",
              "      <th></th>\n",
              "      <th></th>\n",
              "      <th></th>\n",
              "      <th></th>\n",
              "      <th></th>\n",
              "      <th></th>\n",
              "      <th></th>\n",
              "      <th></th>\n",
              "      <th></th>\n",
              "      <th></th>\n",
              "      <th></th>\n",
              "      <th></th>\n",
              "      <th></th>\n",
              "      <th></th>\n",
              "      <th></th>\n",
              "      <th></th>\n",
              "      <th></th>\n",
              "      <th></th>\n",
              "      <th></th>\n",
              "      <th></th>\n",
              "      <th></th>\n",
              "      <th></th>\n",
              "      <th></th>\n",
              "      <th></th>\n",
              "      <th></th>\n",
              "      <th></th>\n",
              "      <th></th>\n",
              "      <th></th>\n",
              "      <th></th>\n",
              "      <th></th>\n",
              "      <th></th>\n",
              "      <th></th>\n",
              "      <th></th>\n",
              "      <th></th>\n",
              "      <th></th>\n",
              "      <th></th>\n",
              "      <th></th>\n",
              "      <th></th>\n",
              "      <th></th>\n",
              "      <th></th>\n",
              "      <th></th>\n",
              "      <th></th>\n",
              "      <th></th>\n",
              "      <th></th>\n",
              "      <th></th>\n",
              "      <th></th>\n",
              "      <th></th>\n",
              "    </tr>\n",
              "  </thead>\n",
              "  <tbody>\n",
              "    <tr>\n",
              "      <th>7</th>\n",
              "      <td>I am a developer by profession</td>\n",
              "      <td>Yes</td>\n",
              "      <td>NaN</td>\n",
              "      <td>18</td>\n",
              "      <td>Monthly</td>\n",
              "      <td>NaN</td>\n",
              "      <td>NaN</td>\n",
              "      <td>India</td>\n",
              "      <td>United States dollar</td>\n",
              "      <td>USD</td>\n",
              "      <td>NaN</td>\n",
              "      <td>NaN</td>\n",
              "      <td>Developer, back-end;Developer, front-end;Devel...</td>\n",
              "      <td>Bachelor’s degree (B.A., B.S., B.Eng., etc.)</td>\n",
              "      <td>Employed full-time</td>\n",
              "      <td>NaN</td>\n",
              "      <td>NaN</td>\n",
              "      <td>NaN</td>\n",
              "      <td>Very satisfied</td>\n",
              "      <td>I’m not actively looking, but I am open to new...</td>\n",
              "      <td>C#;HTML/CSS;PHP</td>\n",
              "      <td>C#;HTML/CSS;PHP</td>\n",
              "      <td>NaN</td>\n",
              "      <td>NaN</td>\n",
              "      <td>NaN</td>\n",
              "      <td>NaN</td>\n",
              "      <td>Yes</td>\n",
              "      <td>Extremely important</td>\n",
              "      <td>Very important</td>\n",
              "      <td>Better compensation;Growth or leadership oppor...</td>\n",
              "      <td>Read company media, such as employee blogs or ...</td>\n",
              "      <td>Every few months</td>\n",
              "      <td>Yes</td>\n",
              "      <td>Yes</td>\n",
              "      <td>No</td>\n",
              "      <td>Sometimes: 1-2 days per month but less than we...</td>\n",
              "      <td>Start a free trial;Ask developers I know/work ...</td>\n",
              "      <td>NaN</td>\n",
              "      <td>Stack Overflow (public Q&amp;A for anyone who codes)</td>\n",
              "      <td>NaN</td>\n",
              "      <td>Windows</td>\n",
              "      <td>20 to 99 employees</td>\n",
              "      <td>NaN</td>\n",
              "      <td>NaN</td>\n",
              "      <td>NaN</td>\n",
              "      <td>NaN</td>\n",
              "      <td>Yes</td>\n",
              "      <td>Yes, definitely</td>\n",
              "      <td>Multiple times per day</td>\n",
              "      <td>Multiple times per day</td>\n",
              "      <td>NaN</td>\n",
              "      <td>NaN</td>\n",
              "      <td>NaN</td>\n",
              "      <td>Computer science, computer engineering, or sof...</td>\n",
              "      <td>NaN</td>\n",
              "      <td>NaN</td>\n",
              "      <td>A lot more welcome now than last year</td>\n",
              "      <td>NaN</td>\n",
              "      <td>6</td>\n",
              "      <td>4</td>\n",
              "    </tr>\n",
              "    <tr>\n",
              "      <th>22</th>\n",
              "      <td>I am a developer by profession</td>\n",
              "      <td>Yes</td>\n",
              "      <td>NaN</td>\n",
              "      <td>18</td>\n",
              "      <td>Monthly</td>\n",
              "      <td>NaN</td>\n",
              "      <td>NaN</td>\n",
              "      <td>India</td>\n",
              "      <td>Indian rupee</td>\n",
              "      <td>INR</td>\n",
              "      <td>NaN</td>\n",
              "      <td>NaN</td>\n",
              "      <td>Developer, full-stack;Engineer, data</td>\n",
              "      <td>Bachelor’s degree (B.A., B.S., B.Eng., etc.)</td>\n",
              "      <td>Employed full-time</td>\n",
              "      <td>NaN</td>\n",
              "      <td>Man</td>\n",
              "      <td>NaN</td>\n",
              "      <td>Slightly dissatisfied</td>\n",
              "      <td>I am actively looking for a job</td>\n",
              "      <td>Java;JavaScript;Python</td>\n",
              "      <td>Java;Python</td>\n",
              "      <td>NaN</td>\n",
              "      <td>NaN</td>\n",
              "      <td>NaN</td>\n",
              "      <td>NaN</td>\n",
              "      <td>Not sure</td>\n",
              "      <td>NaN</td>\n",
              "      <td>Very important</td>\n",
              "      <td>Better compensation;Better work/life balance;W...</td>\n",
              "      <td>Company reviews from third party sites (e.g. G...</td>\n",
              "      <td>Every few months</td>\n",
              "      <td>No</td>\n",
              "      <td>Yes</td>\n",
              "      <td>No</td>\n",
              "      <td>Often: 1-2 days per week or more</td>\n",
              "      <td>NaN</td>\n",
              "      <td>NaN</td>\n",
              "      <td>Stack Overflow (public Q&amp;A for anyone who code...</td>\n",
              "      <td>NaN</td>\n",
              "      <td>Windows</td>\n",
              "      <td>500 to 999 employees</td>\n",
              "      <td>NaN</td>\n",
              "      <td>NaN</td>\n",
              "      <td>NaN</td>\n",
              "      <td>NaN</td>\n",
              "      <td>Yes</td>\n",
              "      <td>Yes, definitely</td>\n",
              "      <td>Multiple times per day</td>\n",
              "      <td>Multiple times per day</td>\n",
              "      <td>Easy</td>\n",
              "      <td>Appropriate in length</td>\n",
              "      <td>NaN</td>\n",
              "      <td>Computer science, computer engineering, or sof...</td>\n",
              "      <td>NaN</td>\n",
              "      <td>NaN</td>\n",
              "      <td>Just as welcome now as I felt last year</td>\n",
              "      <td>50.0</td>\n",
              "      <td>10</td>\n",
              "      <td>2</td>\n",
              "    </tr>\n",
              "  </tbody>\n",
              "</table>\n",
              "</div>"
            ],
            "text/plain": [
              "                                MainBranch Hobbyist  Age Age1stCode CompFreq  \\\n",
              "Respondent                                                                     \n",
              "7           I am a developer by profession      Yes  NaN         18  Monthly   \n",
              "22          I am a developer by profession      Yes  NaN         18  Monthly   \n",
              "\n",
              "            CompTotal  ConvertedComp Country          CurrencyDesc  \\\n",
              "Respondent                                                           \n",
              "7                 NaN            NaN   India  United States dollar   \n",
              "22                NaN            NaN   India          Indian rupee   \n",
              "\n",
              "           CurrencySymbol DatabaseDesireNextYear DatabaseWorkedWith  \\\n",
              "Respondent                                                            \n",
              "7                     USD                    NaN                NaN   \n",
              "22                    INR                    NaN                NaN   \n",
              "\n",
              "                                                      DevType  \\\n",
              "Respondent                                                      \n",
              "7           Developer, back-end;Developer, front-end;Devel...   \n",
              "22                       Developer, full-stack;Engineer, data   \n",
              "\n",
              "                                                 EdLevel          Employment  \\\n",
              "Respondent                                                                     \n",
              "7           Bachelor’s degree (B.A., B.S., B.Eng., etc.)  Employed full-time   \n",
              "22          Bachelor’s degree (B.A., B.S., B.Eng., etc.)  Employed full-time   \n",
              "\n",
              "           Ethnicity Gender JobFactors                 JobSat  \\\n",
              "Respondent                                                      \n",
              "7                NaN    NaN        NaN         Very satisfied   \n",
              "22               NaN    Man        NaN  Slightly dissatisfied   \n",
              "\n",
              "                                                      JobSeek  \\\n",
              "Respondent                                                      \n",
              "7           I’m not actively looking, but I am open to new...   \n",
              "22                            I am actively looking for a job   \n",
              "\n",
              "            LanguageDesireNextYear LanguageWorkedWith MiscTechDesireNextYear  \\\n",
              "Respondent                                                                     \n",
              "7                  C#;HTML/CSS;PHP    C#;HTML/CSS;PHP                    NaN   \n",
              "22          Java;JavaScript;Python        Java;Python                    NaN   \n",
              "\n",
              "           MiscTechWorkedWith NEWCollabToolsDesireNextYear  \\\n",
              "Respondent                                                   \n",
              "7                         NaN                          NaN   \n",
              "22                        NaN                          NaN   \n",
              "\n",
              "           NEWCollabToolsWorkedWith NEWDevOps        NEWDevOpsImpt  \\\n",
              "Respondent                                                           \n",
              "7                               NaN       Yes  Extremely important   \n",
              "22                              NaN  Not sure                  NaN   \n",
              "\n",
              "                 NEWEdImpt                                         NEWJobHunt  \\\n",
              "Respondent                                                                      \n",
              "7           Very important  Better compensation;Growth or leadership oppor...   \n",
              "22          Very important  Better compensation;Better work/life balance;W...   \n",
              "\n",
              "                                           NEWJobHuntResearch  \\\n",
              "Respondent                                                      \n",
              "7           Read company media, such as employee blogs or ...   \n",
              "22          Company reviews from third party sites (e.g. G...   \n",
              "\n",
              "                    NEWLearn NEWOffTopic NEWOnboardGood NEWOtherComms  \\\n",
              "Respondent                                                              \n",
              "7           Every few months         Yes            Yes            No   \n",
              "22          Every few months          No            Yes            No   \n",
              "\n",
              "                                                  NEWOvertime  \\\n",
              "Respondent                                                      \n",
              "7           Sometimes: 1-2 days per month but less than we...   \n",
              "22                           Often: 1-2 days per week or more   \n",
              "\n",
              "                                          NEWPurchaseResearch NEWPurpleLink  \\\n",
              "Respondent                                                                    \n",
              "7           Start a free trial;Ask developers I know/work ...           NaN   \n",
              "22                                                        NaN           NaN   \n",
              "\n",
              "                                                   NEWSOSites NEWStuck  \\\n",
              "Respondent                                                               \n",
              "7            Stack Overflow (public Q&A for anyone who codes)      NaN   \n",
              "22          Stack Overflow (public Q&A for anyone who code...      NaN   \n",
              "\n",
              "              OpSys               OrgSize PlatformDesireNextYear  \\\n",
              "Respondent                                                         \n",
              "7           Windows    20 to 99 employees                    NaN   \n",
              "22          Windows  500 to 999 employees                    NaN   \n",
              "\n",
              "           PlatformWorkedWith PurchaseWhat Sexuality SOAccount  \\\n",
              "Respondent                                                       \n",
              "7                         NaN          NaN       NaN       Yes   \n",
              "22                        NaN          NaN       NaN       Yes   \n",
              "\n",
              "                     SOComm              SOPartFreq             SOVisitFreq  \\\n",
              "Respondent                                                                    \n",
              "7           Yes, definitely  Multiple times per day  Multiple times per day   \n",
              "22          Yes, definitely  Multiple times per day  Multiple times per day   \n",
              "\n",
              "           SurveyEase           SurveyLength Trans  \\\n",
              "Respondent                                           \n",
              "7                 NaN                    NaN   NaN   \n",
              "22               Easy  Appropriate in length   NaN   \n",
              "\n",
              "                                               UndergradMajor  \\\n",
              "Respondent                                                      \n",
              "7           Computer science, computer engineering, or sof...   \n",
              "22          Computer science, computer engineering, or sof...   \n",
              "\n",
              "           WebframeDesireNextYear WebframeWorkedWith  \\\n",
              "Respondent                                             \n",
              "7                             NaN                NaN   \n",
              "22                            NaN                NaN   \n",
              "\n",
              "                                      WelcomeChange  WorkWeekHrs YearsCode  \\\n",
              "Respondent                                                                   \n",
              "7             A lot more welcome now than last year          NaN         6   \n",
              "22          Just as welcome now as I felt last year         50.0        10   \n",
              "\n",
              "           YearsCodePro  \n",
              "Respondent               \n",
              "7                     4  \n",
              "22                    2  "
            ]
          },
          "metadata": {
            "tags": []
          },
          "execution_count": 36
        }
      ]
    },
    {
      "cell_type": "code",
      "metadata": {
        "colab": {
          "base_uri": "https://localhost:8080/",
          "height": 316
        },
        "id": "KVppmr1dIZ1W",
        "outputId": "312d0659-a292-4dac-ae96-b4382e044748"
      },
      "source": [
        "filt = df['Country'] == 'India'\n",
        "df[filt].head(2)"
      ],
      "execution_count": 40,
      "outputs": [
        {
          "output_type": "execute_result",
          "data": {
            "text/html": [
              "<div>\n",
              "<style scoped>\n",
              "    .dataframe tbody tr th:only-of-type {\n",
              "        vertical-align: middle;\n",
              "    }\n",
              "\n",
              "    .dataframe tbody tr th {\n",
              "        vertical-align: top;\n",
              "    }\n",
              "\n",
              "    .dataframe thead th {\n",
              "        text-align: right;\n",
              "    }\n",
              "</style>\n",
              "<table border=\"1\" class=\"dataframe\">\n",
              "  <thead>\n",
              "    <tr style=\"text-align: right;\">\n",
              "      <th></th>\n",
              "      <th>MainBranch</th>\n",
              "      <th>Hobbyist</th>\n",
              "      <th>Age</th>\n",
              "      <th>Age1stCode</th>\n",
              "      <th>CompFreq</th>\n",
              "      <th>CompTotal</th>\n",
              "      <th>ConvertedComp</th>\n",
              "      <th>Country</th>\n",
              "      <th>CurrencyDesc</th>\n",
              "      <th>CurrencySymbol</th>\n",
              "      <th>DatabaseDesireNextYear</th>\n",
              "      <th>DatabaseWorkedWith</th>\n",
              "      <th>DevType</th>\n",
              "      <th>EdLevel</th>\n",
              "      <th>Employment</th>\n",
              "      <th>Ethnicity</th>\n",
              "      <th>Gender</th>\n",
              "      <th>JobFactors</th>\n",
              "      <th>JobSat</th>\n",
              "      <th>JobSeek</th>\n",
              "      <th>LanguageDesireNextYear</th>\n",
              "      <th>LanguageWorkedWith</th>\n",
              "      <th>MiscTechDesireNextYear</th>\n",
              "      <th>MiscTechWorkedWith</th>\n",
              "      <th>NEWCollabToolsDesireNextYear</th>\n",
              "      <th>NEWCollabToolsWorkedWith</th>\n",
              "      <th>NEWDevOps</th>\n",
              "      <th>NEWDevOpsImpt</th>\n",
              "      <th>NEWEdImpt</th>\n",
              "      <th>NEWJobHunt</th>\n",
              "      <th>NEWJobHuntResearch</th>\n",
              "      <th>NEWLearn</th>\n",
              "      <th>NEWOffTopic</th>\n",
              "      <th>NEWOnboardGood</th>\n",
              "      <th>NEWOtherComms</th>\n",
              "      <th>NEWOvertime</th>\n",
              "      <th>NEWPurchaseResearch</th>\n",
              "      <th>NEWPurpleLink</th>\n",
              "      <th>NEWSOSites</th>\n",
              "      <th>NEWStuck</th>\n",
              "      <th>OpSys</th>\n",
              "      <th>OrgSize</th>\n",
              "      <th>PlatformDesireNextYear</th>\n",
              "      <th>PlatformWorkedWith</th>\n",
              "      <th>PurchaseWhat</th>\n",
              "      <th>Sexuality</th>\n",
              "      <th>SOAccount</th>\n",
              "      <th>SOComm</th>\n",
              "      <th>SOPartFreq</th>\n",
              "      <th>SOVisitFreq</th>\n",
              "      <th>SurveyEase</th>\n",
              "      <th>SurveyLength</th>\n",
              "      <th>Trans</th>\n",
              "      <th>UndergradMajor</th>\n",
              "      <th>WebframeDesireNextYear</th>\n",
              "      <th>WebframeWorkedWith</th>\n",
              "      <th>WelcomeChange</th>\n",
              "      <th>WorkWeekHrs</th>\n",
              "      <th>YearsCode</th>\n",
              "      <th>YearsCodePro</th>\n",
              "    </tr>\n",
              "    <tr>\n",
              "      <th>Respondent</th>\n",
              "      <th></th>\n",
              "      <th></th>\n",
              "      <th></th>\n",
              "      <th></th>\n",
              "      <th></th>\n",
              "      <th></th>\n",
              "      <th></th>\n",
              "      <th></th>\n",
              "      <th></th>\n",
              "      <th></th>\n",
              "      <th></th>\n",
              "      <th></th>\n",
              "      <th></th>\n",
              "      <th></th>\n",
              "      <th></th>\n",
              "      <th></th>\n",
              "      <th></th>\n",
              "      <th></th>\n",
              "      <th></th>\n",
              "      <th></th>\n",
              "      <th></th>\n",
              "      <th></th>\n",
              "      <th></th>\n",
              "      <th></th>\n",
              "      <th></th>\n",
              "      <th></th>\n",
              "      <th></th>\n",
              "      <th></th>\n",
              "      <th></th>\n",
              "      <th></th>\n",
              "      <th></th>\n",
              "      <th></th>\n",
              "      <th></th>\n",
              "      <th></th>\n",
              "      <th></th>\n",
              "      <th></th>\n",
              "      <th></th>\n",
              "      <th></th>\n",
              "      <th></th>\n",
              "      <th></th>\n",
              "      <th></th>\n",
              "      <th></th>\n",
              "      <th></th>\n",
              "      <th></th>\n",
              "      <th></th>\n",
              "      <th></th>\n",
              "      <th></th>\n",
              "      <th></th>\n",
              "      <th></th>\n",
              "      <th></th>\n",
              "      <th></th>\n",
              "      <th></th>\n",
              "      <th></th>\n",
              "      <th></th>\n",
              "      <th></th>\n",
              "      <th></th>\n",
              "      <th></th>\n",
              "      <th></th>\n",
              "      <th></th>\n",
              "      <th></th>\n",
              "    </tr>\n",
              "  </thead>\n",
              "  <tbody>\n",
              "    <tr>\n",
              "      <th>7</th>\n",
              "      <td>I am a developer by profession</td>\n",
              "      <td>Yes</td>\n",
              "      <td>NaN</td>\n",
              "      <td>18</td>\n",
              "      <td>Monthly</td>\n",
              "      <td>NaN</td>\n",
              "      <td>NaN</td>\n",
              "      <td>India</td>\n",
              "      <td>United States dollar</td>\n",
              "      <td>USD</td>\n",
              "      <td>NaN</td>\n",
              "      <td>NaN</td>\n",
              "      <td>Developer, back-end;Developer, front-end;Devel...</td>\n",
              "      <td>Bachelor’s degree (B.A., B.S., B.Eng., etc.)</td>\n",
              "      <td>Employed full-time</td>\n",
              "      <td>NaN</td>\n",
              "      <td>NaN</td>\n",
              "      <td>NaN</td>\n",
              "      <td>Very satisfied</td>\n",
              "      <td>I’m not actively looking, but I am open to new...</td>\n",
              "      <td>C#;HTML/CSS;PHP</td>\n",
              "      <td>C#;HTML/CSS;PHP</td>\n",
              "      <td>NaN</td>\n",
              "      <td>NaN</td>\n",
              "      <td>NaN</td>\n",
              "      <td>NaN</td>\n",
              "      <td>Yes</td>\n",
              "      <td>Extremely important</td>\n",
              "      <td>Very important</td>\n",
              "      <td>Better compensation;Growth or leadership oppor...</td>\n",
              "      <td>Read company media, such as employee blogs or ...</td>\n",
              "      <td>Every few months</td>\n",
              "      <td>Yes</td>\n",
              "      <td>Yes</td>\n",
              "      <td>No</td>\n",
              "      <td>Sometimes: 1-2 days per month but less than we...</td>\n",
              "      <td>Start a free trial;Ask developers I know/work ...</td>\n",
              "      <td>NaN</td>\n",
              "      <td>Stack Overflow (public Q&amp;A for anyone who codes)</td>\n",
              "      <td>NaN</td>\n",
              "      <td>Windows</td>\n",
              "      <td>20 to 99 employees</td>\n",
              "      <td>NaN</td>\n",
              "      <td>NaN</td>\n",
              "      <td>NaN</td>\n",
              "      <td>NaN</td>\n",
              "      <td>Yes</td>\n",
              "      <td>Yes, definitely</td>\n",
              "      <td>Multiple times per day</td>\n",
              "      <td>Multiple times per day</td>\n",
              "      <td>NaN</td>\n",
              "      <td>NaN</td>\n",
              "      <td>NaN</td>\n",
              "      <td>Computer science, computer engineering, or sof...</td>\n",
              "      <td>NaN</td>\n",
              "      <td>NaN</td>\n",
              "      <td>A lot more welcome now than last year</td>\n",
              "      <td>NaN</td>\n",
              "      <td>6</td>\n",
              "      <td>4</td>\n",
              "    </tr>\n",
              "    <tr>\n",
              "      <th>22</th>\n",
              "      <td>I am a developer by profession</td>\n",
              "      <td>Yes</td>\n",
              "      <td>NaN</td>\n",
              "      <td>18</td>\n",
              "      <td>Monthly</td>\n",
              "      <td>NaN</td>\n",
              "      <td>NaN</td>\n",
              "      <td>India</td>\n",
              "      <td>Indian rupee</td>\n",
              "      <td>INR</td>\n",
              "      <td>NaN</td>\n",
              "      <td>NaN</td>\n",
              "      <td>Developer, full-stack;Engineer, data</td>\n",
              "      <td>Bachelor’s degree (B.A., B.S., B.Eng., etc.)</td>\n",
              "      <td>Employed full-time</td>\n",
              "      <td>NaN</td>\n",
              "      <td>Man</td>\n",
              "      <td>NaN</td>\n",
              "      <td>Slightly dissatisfied</td>\n",
              "      <td>I am actively looking for a job</td>\n",
              "      <td>Java;JavaScript;Python</td>\n",
              "      <td>Java;Python</td>\n",
              "      <td>NaN</td>\n",
              "      <td>NaN</td>\n",
              "      <td>NaN</td>\n",
              "      <td>NaN</td>\n",
              "      <td>Not sure</td>\n",
              "      <td>NaN</td>\n",
              "      <td>Very important</td>\n",
              "      <td>Better compensation;Better work/life balance;W...</td>\n",
              "      <td>Company reviews from third party sites (e.g. G...</td>\n",
              "      <td>Every few months</td>\n",
              "      <td>No</td>\n",
              "      <td>Yes</td>\n",
              "      <td>No</td>\n",
              "      <td>Often: 1-2 days per week or more</td>\n",
              "      <td>NaN</td>\n",
              "      <td>NaN</td>\n",
              "      <td>Stack Overflow (public Q&amp;A for anyone who code...</td>\n",
              "      <td>NaN</td>\n",
              "      <td>Windows</td>\n",
              "      <td>500 to 999 employees</td>\n",
              "      <td>NaN</td>\n",
              "      <td>NaN</td>\n",
              "      <td>NaN</td>\n",
              "      <td>NaN</td>\n",
              "      <td>Yes</td>\n",
              "      <td>Yes, definitely</td>\n",
              "      <td>Multiple times per day</td>\n",
              "      <td>Multiple times per day</td>\n",
              "      <td>Easy</td>\n",
              "      <td>Appropriate in length</td>\n",
              "      <td>NaN</td>\n",
              "      <td>Computer science, computer engineering, or sof...</td>\n",
              "      <td>NaN</td>\n",
              "      <td>NaN</td>\n",
              "      <td>Just as welcome now as I felt last year</td>\n",
              "      <td>50.0</td>\n",
              "      <td>10</td>\n",
              "      <td>2</td>\n",
              "    </tr>\n",
              "  </tbody>\n",
              "</table>\n",
              "</div>"
            ],
            "text/plain": [
              "                                MainBranch Hobbyist  Age Age1stCode CompFreq  \\\n",
              "Respondent                                                                     \n",
              "7           I am a developer by profession      Yes  NaN         18  Monthly   \n",
              "22          I am a developer by profession      Yes  NaN         18  Monthly   \n",
              "\n",
              "            CompTotal  ConvertedComp Country          CurrencyDesc  \\\n",
              "Respondent                                                           \n",
              "7                 NaN            NaN   India  United States dollar   \n",
              "22                NaN            NaN   India          Indian rupee   \n",
              "\n",
              "           CurrencySymbol DatabaseDesireNextYear DatabaseWorkedWith  \\\n",
              "Respondent                                                            \n",
              "7                     USD                    NaN                NaN   \n",
              "22                    INR                    NaN                NaN   \n",
              "\n",
              "                                                      DevType  \\\n",
              "Respondent                                                      \n",
              "7           Developer, back-end;Developer, front-end;Devel...   \n",
              "22                       Developer, full-stack;Engineer, data   \n",
              "\n",
              "                                                 EdLevel          Employment  \\\n",
              "Respondent                                                                     \n",
              "7           Bachelor’s degree (B.A., B.S., B.Eng., etc.)  Employed full-time   \n",
              "22          Bachelor’s degree (B.A., B.S., B.Eng., etc.)  Employed full-time   \n",
              "\n",
              "           Ethnicity Gender JobFactors                 JobSat  \\\n",
              "Respondent                                                      \n",
              "7                NaN    NaN        NaN         Very satisfied   \n",
              "22               NaN    Man        NaN  Slightly dissatisfied   \n",
              "\n",
              "                                                      JobSeek  \\\n",
              "Respondent                                                      \n",
              "7           I’m not actively looking, but I am open to new...   \n",
              "22                            I am actively looking for a job   \n",
              "\n",
              "            LanguageDesireNextYear LanguageWorkedWith MiscTechDesireNextYear  \\\n",
              "Respondent                                                                     \n",
              "7                  C#;HTML/CSS;PHP    C#;HTML/CSS;PHP                    NaN   \n",
              "22          Java;JavaScript;Python        Java;Python                    NaN   \n",
              "\n",
              "           MiscTechWorkedWith NEWCollabToolsDesireNextYear  \\\n",
              "Respondent                                                   \n",
              "7                         NaN                          NaN   \n",
              "22                        NaN                          NaN   \n",
              "\n",
              "           NEWCollabToolsWorkedWith NEWDevOps        NEWDevOpsImpt  \\\n",
              "Respondent                                                           \n",
              "7                               NaN       Yes  Extremely important   \n",
              "22                              NaN  Not sure                  NaN   \n",
              "\n",
              "                 NEWEdImpt                                         NEWJobHunt  \\\n",
              "Respondent                                                                      \n",
              "7           Very important  Better compensation;Growth or leadership oppor...   \n",
              "22          Very important  Better compensation;Better work/life balance;W...   \n",
              "\n",
              "                                           NEWJobHuntResearch  \\\n",
              "Respondent                                                      \n",
              "7           Read company media, such as employee blogs or ...   \n",
              "22          Company reviews from third party sites (e.g. G...   \n",
              "\n",
              "                    NEWLearn NEWOffTopic NEWOnboardGood NEWOtherComms  \\\n",
              "Respondent                                                              \n",
              "7           Every few months         Yes            Yes            No   \n",
              "22          Every few months          No            Yes            No   \n",
              "\n",
              "                                                  NEWOvertime  \\\n",
              "Respondent                                                      \n",
              "7           Sometimes: 1-2 days per month but less than we...   \n",
              "22                           Often: 1-2 days per week or more   \n",
              "\n",
              "                                          NEWPurchaseResearch NEWPurpleLink  \\\n",
              "Respondent                                                                    \n",
              "7           Start a free trial;Ask developers I know/work ...           NaN   \n",
              "22                                                        NaN           NaN   \n",
              "\n",
              "                                                   NEWSOSites NEWStuck  \\\n",
              "Respondent                                                               \n",
              "7            Stack Overflow (public Q&A for anyone who codes)      NaN   \n",
              "22          Stack Overflow (public Q&A for anyone who code...      NaN   \n",
              "\n",
              "              OpSys               OrgSize PlatformDesireNextYear  \\\n",
              "Respondent                                                         \n",
              "7           Windows    20 to 99 employees                    NaN   \n",
              "22          Windows  500 to 999 employees                    NaN   \n",
              "\n",
              "           PlatformWorkedWith PurchaseWhat Sexuality SOAccount  \\\n",
              "Respondent                                                       \n",
              "7                         NaN          NaN       NaN       Yes   \n",
              "22                        NaN          NaN       NaN       Yes   \n",
              "\n",
              "                     SOComm              SOPartFreq             SOVisitFreq  \\\n",
              "Respondent                                                                    \n",
              "7           Yes, definitely  Multiple times per day  Multiple times per day   \n",
              "22          Yes, definitely  Multiple times per day  Multiple times per day   \n",
              "\n",
              "           SurveyEase           SurveyLength Trans  \\\n",
              "Respondent                                           \n",
              "7                 NaN                    NaN   NaN   \n",
              "22               Easy  Appropriate in length   NaN   \n",
              "\n",
              "                                               UndergradMajor  \\\n",
              "Respondent                                                      \n",
              "7           Computer science, computer engineering, or sof...   \n",
              "22          Computer science, computer engineering, or sof...   \n",
              "\n",
              "           WebframeDesireNextYear WebframeWorkedWith  \\\n",
              "Respondent                                             \n",
              "7                             NaN                NaN   \n",
              "22                            NaN                NaN   \n",
              "\n",
              "                                      WelcomeChange  WorkWeekHrs YearsCode  \\\n",
              "Respondent                                                                   \n",
              "7             A lot more welcome now than last year          NaN         6   \n",
              "22          Just as welcome now as I felt last year         50.0        10   \n",
              "\n",
              "           YearsCodePro  \n",
              "Respondent               \n",
              "7                     4  \n",
              "22                    2  "
            ]
          },
          "metadata": {
            "tags": []
          },
          "execution_count": 40
        }
      ]
    },
    {
      "cell_type": "code",
      "metadata": {
        "colab": {
          "base_uri": "https://localhost:8080/"
        },
        "id": "xBwRWqWdI4jW",
        "outputId": "ea1d0f7d-8726-4e5e-9a6c-aef158eccff3"
      },
      "source": [
        "filt = df['Country'] == 'United States'\n",
        "df[filt]['OpSys'].value_counts()"
      ],
      "execution_count": 45,
      "outputs": [
        {
          "output_type": "execute_result",
          "data": {
            "text/plain": [
              "Windows        4478\n",
              "MacOS          3673\n",
              "Linux-based    2171\n",
              "BSD               7\n",
              "Name: OpSys, dtype: int64"
            ]
          },
          "metadata": {
            "tags": []
          },
          "execution_count": 45
        }
      ]
    },
    {
      "cell_type": "code",
      "metadata": {
        "colab": {
          "base_uri": "https://localhost:8080/"
        },
        "id": "ruyjGs3qJn-j",
        "outputId": "141b4bc1-5ff5-4e96-d55f-e1e048be9e52"
      },
      "source": [
        "filt = df['Country'] == 'India'\n",
        "df[filt]['OpSys'].value_counts()"
      ],
      "execution_count": 46,
      "outputs": [
        {
          "output_type": "execute_result",
          "data": {
            "text/plain": [
              "Windows        3062\n",
              "Linux-based    1886\n",
              "MacOS          1077\n",
              "BSD               5\n",
              "Name: OpSys, dtype: int64"
            ]
          },
          "metadata": {
            "tags": []
          },
          "execution_count": 46
        }
      ]
    },
    {
      "cell_type": "code",
      "metadata": {
        "colab": {
          "base_uri": "https://localhost:8080/"
        },
        "id": "0clL1jVxJeMc",
        "outputId": "11b58c97-749b-4c11-9d5e-b333b3c47642"
      },
      "source": [
        "df[df['Country'] == 'India']['OpSys'].value_counts(normalize=True)"
      ],
      "execution_count": 51,
      "outputs": [
        {
          "output_type": "execute_result",
          "data": {
            "text/plain": [
              "Windows        0.507794\n",
              "Linux-based    0.312769\n",
              "MacOS          0.178607\n",
              "BSD            0.000829\n",
              "Name: OpSys, dtype: float64"
            ]
          },
          "metadata": {
            "tags": []
          },
          "execution_count": 51
        }
      ]
    },
    {
      "cell_type": "code",
      "metadata": {
        "colab": {
          "base_uri": "https://localhost:8080/"
        },
        "id": "7I1bNDajIzv2",
        "outputId": "8aaa9192-4bbd-444e-cf55-d75af9bdb7de"
      },
      "source": [
        "country_grp['OpSys'].value_counts().head(25)"
      ],
      "execution_count": 54,
      "outputs": [
        {
          "output_type": "execute_result",
          "data": {
            "text/plain": [
              "Country      OpSys      \n",
              "Afghanistan  Windows         28\n",
              "             Linux-based      5\n",
              "             MacOS            4\n",
              "Albania      Windows         22\n",
              "             Linux-based      6\n",
              "             MacOS            5\n",
              "Algeria      Windows         35\n",
              "             Linux-based     17\n",
              "             MacOS            4\n",
              "             BSD              1\n",
              "Andorra      Linux-based      3\n",
              "             Windows          2\n",
              "             BSD              1\n",
              "Angola       Windows          2\n",
              "             Linux-based      1\n",
              "Argentina    Windows        109\n",
              "             Linux-based     99\n",
              "             MacOS           60\n",
              "Armenia      Linux-based     18\n",
              "             Windows         17\n",
              "             MacOS           10\n",
              "Australia    Windows        480\n",
              "             MacOS          351\n",
              "             Linux-based    190\n",
              "Austria      Windows        242\n",
              "Name: OpSys, dtype: int64"
            ]
          },
          "metadata": {
            "tags": []
          },
          "execution_count": 54
        }
      ]
    },
    {
      "cell_type": "code",
      "metadata": {
        "colab": {
          "base_uri": "https://localhost:8080/"
        },
        "id": "0QLrmWNeLBur",
        "outputId": "8d7c3c84-305d-4817-e0db-740dcf2193e4"
      },
      "source": [
        "country_grp['OpSys'].value_counts().loc['India']"
      ],
      "execution_count": 55,
      "outputs": [
        {
          "output_type": "execute_result",
          "data": {
            "text/plain": [
              "OpSys\n",
              "Windows        3062\n",
              "Linux-based    1886\n",
              "MacOS          1077\n",
              "BSD               5\n",
              "Name: OpSys, dtype: int64"
            ]
          },
          "metadata": {
            "tags": []
          },
          "execution_count": 55
        }
      ]
    },
    {
      "cell_type": "code",
      "metadata": {
        "colab": {
          "base_uri": "https://localhost:8080/"
        },
        "id": "n-wPdzniL8FH",
        "outputId": "c8a41f53-7ce7-49d9-d7c3-92973c61278c"
      },
      "source": [
        "country_grp['OpSys'].value_counts().loc['China']"
      ],
      "execution_count": 56,
      "outputs": [
        {
          "output_type": "execute_result",
          "data": {
            "text/plain": [
              "OpSys\n",
              "Windows        129\n",
              "MacOS           57\n",
              "Linux-based     49\n",
              "BSD              1\n",
              "Name: OpSys, dtype: int64"
            ]
          },
          "metadata": {
            "tags": []
          },
          "execution_count": 56
        }
      ]
    },
    {
      "cell_type": "code",
      "metadata": {
        "colab": {
          "base_uri": "https://localhost:8080/"
        },
        "id": "QVP6-gJ_MJhY",
        "outputId": "27cdb1f6-04eb-4d25-889e-1be2bfc386f7"
      },
      "source": [
        "country_grp['OpSys'].value_counts().loc['Pakistan']"
      ],
      "execution_count": 57,
      "outputs": [
        {
          "output_type": "execute_result",
          "data": {
            "text/plain": [
              "OpSys\n",
              "Windows        355\n",
              "Linux-based    138\n",
              "MacOS           82\n",
              "Name: OpSys, dtype: int64"
            ]
          },
          "metadata": {
            "tags": []
          },
          "execution_count": 57
        }
      ]
    },
    {
      "cell_type": "code",
      "metadata": {
        "colab": {
          "base_uri": "https://localhost:8080/"
        },
        "id": "p1g1_guvK3XH",
        "outputId": "67262eef-3a55-4614-84bb-c4590af20b64"
      },
      "source": [
        "country_grp['ConvertedComp'].median()"
      ],
      "execution_count": 58,
      "outputs": [
        {
          "output_type": "execute_result",
          "data": {
            "text/plain": [
              "Country\n",
              "Afghanistan                               8016.0\n",
              "Albania                                  15900.0\n",
              "Algeria                                  10958.0\n",
              "Andorra                                 141608.0\n",
              "Angola                                    4848.0\n",
              "                                          ...   \n",
              "Venezuela, Bolivarian Republic of...      4200.0\n",
              "Viet Nam                                 11644.0\n",
              "Yemen                                        NaN\n",
              "Zambia                                   12542.0\n",
              "Zimbabwe                                  8600.0\n",
              "Name: ConvertedComp, Length: 180, dtype: float64"
            ]
          },
          "metadata": {
            "tags": []
          },
          "execution_count": 58
        }
      ]
    },
    {
      "cell_type": "code",
      "metadata": {
        "colab": {
          "base_uri": "https://localhost:8080/"
        },
        "id": "Jov5y9xwRO3Q",
        "outputId": "f7f6eb17-dfe4-49f0-afc9-009797ff99be"
      },
      "source": [
        "df.groupby(['Country'])['ConvertedComp'].median().loc['India']"
      ],
      "execution_count": 60,
      "outputs": [
        {
          "output_type": "execute_result",
          "data": {
            "text/plain": [
              "10056.0"
            ]
          },
          "metadata": {
            "tags": []
          },
          "execution_count": 60
        }
      ]
    },
    {
      "cell_type": "code",
      "metadata": {
        "colab": {
          "base_uri": "https://localhost:8080/",
          "height": 420
        },
        "id": "RQZ6u8ZESOrg",
        "outputId": "29792a16-6ab2-469e-b4cb-c1f1304a0e0e"
      },
      "source": [
        "df.groupby(['Country'])['ConvertedComp'].agg(['median', 'mean'])"
      ],
      "execution_count": 61,
      "outputs": [
        {
          "output_type": "execute_result",
          "data": {
            "text/html": [
              "<div>\n",
              "<style scoped>\n",
              "    .dataframe tbody tr th:only-of-type {\n",
              "        vertical-align: middle;\n",
              "    }\n",
              "\n",
              "    .dataframe tbody tr th {\n",
              "        vertical-align: top;\n",
              "    }\n",
              "\n",
              "    .dataframe thead th {\n",
              "        text-align: right;\n",
              "    }\n",
              "</style>\n",
              "<table border=\"1\" class=\"dataframe\">\n",
              "  <thead>\n",
              "    <tr style=\"text-align: right;\">\n",
              "      <th></th>\n",
              "      <th>median</th>\n",
              "      <th>mean</th>\n",
              "    </tr>\n",
              "    <tr>\n",
              "      <th>Country</th>\n",
              "      <th></th>\n",
              "      <th></th>\n",
              "    </tr>\n",
              "  </thead>\n",
              "  <tbody>\n",
              "    <tr>\n",
              "      <th>Afghanistan</th>\n",
              "      <td>8016.0</td>\n",
              "      <td>27618.473684</td>\n",
              "    </tr>\n",
              "    <tr>\n",
              "      <th>Albania</th>\n",
              "      <td>15900.0</td>\n",
              "      <td>26342.666667</td>\n",
              "    </tr>\n",
              "    <tr>\n",
              "      <th>Algeria</th>\n",
              "      <td>10958.0</td>\n",
              "      <td>12245.333333</td>\n",
              "    </tr>\n",
              "    <tr>\n",
              "      <th>Andorra</th>\n",
              "      <td>141608.0</td>\n",
              "      <td>141608.000000</td>\n",
              "    </tr>\n",
              "    <tr>\n",
              "      <th>Angola</th>\n",
              "      <td>4848.0</td>\n",
              "      <td>4848.000000</td>\n",
              "    </tr>\n",
              "    <tr>\n",
              "      <th>...</th>\n",
              "      <td>...</td>\n",
              "      <td>...</td>\n",
              "    </tr>\n",
              "    <tr>\n",
              "      <th>Venezuela, Bolivarian Republic of...</th>\n",
              "      <td>4200.0</td>\n",
              "      <td>7485.583333</td>\n",
              "    </tr>\n",
              "    <tr>\n",
              "      <th>Viet Nam</th>\n",
              "      <td>11644.0</td>\n",
              "      <td>29885.835052</td>\n",
              "    </tr>\n",
              "    <tr>\n",
              "      <th>Yemen</th>\n",
              "      <td>NaN</td>\n",
              "      <td>NaN</td>\n",
              "    </tr>\n",
              "    <tr>\n",
              "      <th>Zambia</th>\n",
              "      <td>12542.0</td>\n",
              "      <td>21679.000000</td>\n",
              "    </tr>\n",
              "    <tr>\n",
              "      <th>Zimbabwe</th>\n",
              "      <td>8600.0</td>\n",
              "      <td>28612.000000</td>\n",
              "    </tr>\n",
              "  </tbody>\n",
              "</table>\n",
              "<p>180 rows × 2 columns</p>\n",
              "</div>"
            ],
            "text/plain": [
              "                                        median           mean\n",
              "Country                                                      \n",
              "Afghanistan                             8016.0   27618.473684\n",
              "Albania                                15900.0   26342.666667\n",
              "Algeria                                10958.0   12245.333333\n",
              "Andorra                               141608.0  141608.000000\n",
              "Angola                                  4848.0    4848.000000\n",
              "...                                        ...            ...\n",
              "Venezuela, Bolivarian Republic of...    4200.0    7485.583333\n",
              "Viet Nam                               11644.0   29885.835052\n",
              "Yemen                                      NaN            NaN\n",
              "Zambia                                 12542.0   21679.000000\n",
              "Zimbabwe                                8600.0   28612.000000\n",
              "\n",
              "[180 rows x 2 columns]"
            ]
          },
          "metadata": {
            "tags": []
          },
          "execution_count": 61
        }
      ]
    },
    {
      "cell_type": "code",
      "metadata": {
        "colab": {
          "base_uri": "https://localhost:8080/"
        },
        "id": "ufFb6o6RS1c2",
        "outputId": "a122b2df-8912-49a4-dc64-9dc092189bbe"
      },
      "source": [
        "df.groupby(['Country'])['ConvertedComp'].agg(['median', 'mean']).loc['Canada']"
      ],
      "execution_count": 62,
      "outputs": [
        {
          "output_type": "execute_result",
          "data": {
            "text/plain": [
              "median     68068.00000\n",
              "mean      112774.73987\n",
              "Name: Canada, dtype: float64"
            ]
          },
          "metadata": {
            "tags": []
          },
          "execution_count": 62
        }
      ]
    },
    {
      "cell_type": "code",
      "metadata": {
        "colab": {
          "base_uri": "https://localhost:8080/"
        },
        "id": "6ToCXsZcS-6X",
        "outputId": "90615a1a-6638-461e-c88f-59a53cf1a551"
      },
      "source": [
        "filt = df['Country'] == 'India'\n",
        "df[filt]['LanguageWorkedWith'].str.contains('Python')"
      ],
      "execution_count": 63,
      "outputs": [
        {
          "output_type": "execute_result",
          "data": {
            "text/plain": [
              "Respondent\n",
              "7        False\n",
              "22        True\n",
              "58       False\n",
              "63        True\n",
              "149      False\n",
              "         ...  \n",
              "56728      NaN\n",
              "56756     True\n",
              "56762    False\n",
              "56767    False\n",
              "56778     True\n",
              "Name: LanguageWorkedWith, Length: 7301, dtype: object"
            ]
          },
          "metadata": {
            "tags": []
          },
          "execution_count": 63
        }
      ]
    },
    {
      "cell_type": "code",
      "metadata": {
        "colab": {
          "base_uri": "https://localhost:8080/"
        },
        "id": "E1vlwHvRTasL",
        "outputId": "158e81d0-c81b-4918-87cc-ec3bdb8e3e91"
      },
      "source": [
        "df[filt]['LanguageWorkedWith'].str.contains('Python').sum()"
      ],
      "execution_count": 64,
      "outputs": [
        {
          "output_type": "execute_result",
          "data": {
            "text/plain": [
              "2367"
            ]
          },
          "metadata": {
            "tags": []
          },
          "execution_count": 64
        }
      ]
    },
    {
      "cell_type": "code",
      "metadata": {
        "colab": {
          "base_uri": "https://localhost:8080/",
          "height": 272
        },
        "id": "lW_8PqUV-GmD",
        "outputId": "3d2a61f9-686d-4025-b4fb-fdee98ebd4ea"
      },
      "source": [
        "df.groupby(['Country'])['LanguageWorkedWith'].str.contains('Python').sum()"
      ],
      "execution_count": 66,
      "outputs": [
        {
          "output_type": "error",
          "ename": "AttributeError",
          "evalue": "ignored",
          "traceback": [
            "\u001b[0;31m---------------------------------------------------------------------------\u001b[0m",
            "\u001b[0;31mAttributeError\u001b[0m                            Traceback (most recent call last)",
            "\u001b[0;32m<ipython-input-66-a006f9b9afef>\u001b[0m in \u001b[0;36m<module>\u001b[0;34m()\u001b[0m\n\u001b[0;32m----> 1\u001b[0;31m \u001b[0mdf\u001b[0m\u001b[0;34m.\u001b[0m\u001b[0mgroupby\u001b[0m\u001b[0;34m(\u001b[0m\u001b[0;34m[\u001b[0m\u001b[0;34m'Country'\u001b[0m\u001b[0;34m]\u001b[0m\u001b[0;34m)\u001b[0m\u001b[0;34m[\u001b[0m\u001b[0;34m'LanguageWorkedWith'\u001b[0m\u001b[0;34m]\u001b[0m\u001b[0;34m.\u001b[0m\u001b[0mstr\u001b[0m\u001b[0;34m.\u001b[0m\u001b[0mcontains\u001b[0m\u001b[0;34m(\u001b[0m\u001b[0;34m'Python'\u001b[0m\u001b[0;34m)\u001b[0m\u001b[0;34m.\u001b[0m\u001b[0msum\u001b[0m\u001b[0;34m(\u001b[0m\u001b[0;34m)\u001b[0m\u001b[0;34m\u001b[0m\u001b[0;34m\u001b[0m\u001b[0m\n\u001b[0m",
            "\u001b[0;32m/usr/local/lib/python3.7/dist-packages/pandas/core/groupby/groupby.py\u001b[0m in \u001b[0;36m__getattr__\u001b[0;34m(self, attr)\u001b[0m\n\u001b[1;32m    702\u001b[0m \u001b[0;34m\u001b[0m\u001b[0m\n\u001b[1;32m    703\u001b[0m         raise AttributeError(\n\u001b[0;32m--> 704\u001b[0;31m             \u001b[0;34mf\"'{type(self).__name__}' object has no attribute '{attr}'\"\u001b[0m\u001b[0;34m\u001b[0m\u001b[0;34m\u001b[0m\u001b[0m\n\u001b[0m\u001b[1;32m    705\u001b[0m         )\n\u001b[1;32m    706\u001b[0m \u001b[0;34m\u001b[0m\u001b[0m\n",
            "\u001b[0;31mAttributeError\u001b[0m: 'SeriesGroupBy' object has no attribute 'str'"
          ]
        }
      ]
    },
    {
      "cell_type": "code",
      "metadata": {
        "colab": {
          "base_uri": "https://localhost:8080/"
        },
        "id": "JTqeikD--GjC",
        "outputId": "d735d1f3-c38c-4fc5-90d6-b7b6dd396c64"
      },
      "source": [
        "df.groupby(['Country'])['LanguageWorkedWith'].apply(lambda x: x.str.contains('Python').sum())"
      ],
      "execution_count": 67,
      "outputs": [
        {
          "output_type": "execute_result",
          "data": {
            "text/plain": [
              "Country\n",
              "Afghanistan                             11\n",
              "Albania                                 12\n",
              "Algeria                                 31\n",
              "Andorra                                  2\n",
              "Angola                                   1\n",
              "                                        ..\n",
              "Venezuela, Bolivarian Republic of...    22\n",
              "Viet Nam                                92\n",
              "Yemen                                    1\n",
              "Zambia                                   2\n",
              "Zimbabwe                                13\n",
              "Name: LanguageWorkedWith, Length: 180, dtype: int64"
            ]
          },
          "metadata": {
            "tags": []
          },
          "execution_count": 67
        }
      ]
    },
    {
      "cell_type": "markdown",
      "metadata": {
        "id": "akBEusS8VdXy"
      },
      "source": [
        "> What % of people from each country know Python?"
      ]
    },
    {
      "cell_type": "code",
      "metadata": {
        "colab": {
          "base_uri": "https://localhost:8080/"
        },
        "id": "d-yT_jqIVHsb",
        "outputId": "196c4f8a-fdfb-4c47-d426-146b746a334b"
      },
      "source": [
        "country_resp = df['Country'].value_counts()\n",
        "country_resp"
      ],
      "execution_count": 69,
      "outputs": [
        {
          "output_type": "execute_result",
          "data": {
            "text/plain": [
              "United States                         11109\n",
              "India                                  7301\n",
              "United Kingdom                         3474\n",
              "Germany                                3429\n",
              "Canada                                 1953\n",
              "                                      ...  \n",
              "Micronesia, Federated States of...        1\n",
              "Nauru                                     1\n",
              "Liechtenstein                             1\n",
              "Grenada                                   1\n",
              "Monaco                                    1\n",
              "Name: Country, Length: 180, dtype: int64"
            ]
          },
          "metadata": {
            "tags": []
          },
          "execution_count": 69
        }
      ]
    },
    {
      "cell_type": "code",
      "metadata": {
        "colab": {
          "base_uri": "https://localhost:8080/"
        },
        "id": "_p6AYJ-fWHqz",
        "outputId": "98ef29fd-cd22-42d0-c8a0-0c3f3c8ccd2f"
      },
      "source": [
        "country_uses_python = df.groupby(['Country'])['LanguageWorkedWith'].apply(lambda x: x.str.contains('Python').sum())\n",
        "country_uses_python"
      ],
      "execution_count": 71,
      "outputs": [
        {
          "output_type": "execute_result",
          "data": {
            "text/plain": [
              "Country\n",
              "Afghanistan                             11\n",
              "Albania                                 12\n",
              "Algeria                                 31\n",
              "Andorra                                  2\n",
              "Angola                                   1\n",
              "                                        ..\n",
              "Venezuela, Bolivarian Republic of...    22\n",
              "Viet Nam                                92\n",
              "Yemen                                    1\n",
              "Zambia                                   2\n",
              "Zimbabwe                                13\n",
              "Name: LanguageWorkedWith, Length: 180, dtype: int64"
            ]
          },
          "metadata": {
            "tags": []
          },
          "execution_count": 71
        }
      ]
    },
    {
      "cell_type": "code",
      "metadata": {
        "colab": {
          "base_uri": "https://localhost:8080/",
          "height": 391
        },
        "id": "9fYRalQT-Gfq",
        "outputId": "0e42fd29-7603-44be-ac06-867085008258"
      },
      "source": [
        "python_df = pd.concat([country_resp, country_uses_python], axis=1, sort=False)\n",
        "python_df"
      ],
      "execution_count": 81,
      "outputs": [
        {
          "output_type": "execute_result",
          "data": {
            "text/html": [
              "<div>\n",
              "<style scoped>\n",
              "    .dataframe tbody tr th:only-of-type {\n",
              "        vertical-align: middle;\n",
              "    }\n",
              "\n",
              "    .dataframe tbody tr th {\n",
              "        vertical-align: top;\n",
              "    }\n",
              "\n",
              "    .dataframe thead th {\n",
              "        text-align: right;\n",
              "    }\n",
              "</style>\n",
              "<table border=\"1\" class=\"dataframe\">\n",
              "  <thead>\n",
              "    <tr style=\"text-align: right;\">\n",
              "      <th></th>\n",
              "      <th>Country</th>\n",
              "      <th>LanguageWorkedWith</th>\n",
              "    </tr>\n",
              "  </thead>\n",
              "  <tbody>\n",
              "    <tr>\n",
              "      <th>United States</th>\n",
              "      <td>11109</td>\n",
              "      <td>5372</td>\n",
              "    </tr>\n",
              "    <tr>\n",
              "      <th>India</th>\n",
              "      <td>7301</td>\n",
              "      <td>2367</td>\n",
              "    </tr>\n",
              "    <tr>\n",
              "      <th>United Kingdom</th>\n",
              "      <td>3474</td>\n",
              "      <td>1453</td>\n",
              "    </tr>\n",
              "    <tr>\n",
              "      <th>Germany</th>\n",
              "      <td>3429</td>\n",
              "      <td>1527</td>\n",
              "    </tr>\n",
              "    <tr>\n",
              "      <th>Canada</th>\n",
              "      <td>1953</td>\n",
              "      <td>911</td>\n",
              "    </tr>\n",
              "    <tr>\n",
              "      <th>...</th>\n",
              "      <td>...</td>\n",
              "      <td>...</td>\n",
              "    </tr>\n",
              "    <tr>\n",
              "      <th>Micronesia, Federated States of...</th>\n",
              "      <td>1</td>\n",
              "      <td>1</td>\n",
              "    </tr>\n",
              "    <tr>\n",
              "      <th>Nauru</th>\n",
              "      <td>1</td>\n",
              "      <td>0</td>\n",
              "    </tr>\n",
              "    <tr>\n",
              "      <th>Liechtenstein</th>\n",
              "      <td>1</td>\n",
              "      <td>0</td>\n",
              "    </tr>\n",
              "    <tr>\n",
              "      <th>Grenada</th>\n",
              "      <td>1</td>\n",
              "      <td>0</td>\n",
              "    </tr>\n",
              "    <tr>\n",
              "      <th>Monaco</th>\n",
              "      <td>1</td>\n",
              "      <td>0</td>\n",
              "    </tr>\n",
              "  </tbody>\n",
              "</table>\n",
              "<p>180 rows × 2 columns</p>\n",
              "</div>"
            ],
            "text/plain": [
              "                                    Country  LanguageWorkedWith\n",
              "United States                         11109                5372\n",
              "India                                  7301                2367\n",
              "United Kingdom                         3474                1453\n",
              "Germany                                3429                1527\n",
              "Canada                                 1953                 911\n",
              "...                                     ...                 ...\n",
              "Micronesia, Federated States of...        1                   1\n",
              "Nauru                                     1                   0\n",
              "Liechtenstein                             1                   0\n",
              "Grenada                                   1                   0\n",
              "Monaco                                    1                   0\n",
              "\n",
              "[180 rows x 2 columns]"
            ]
          },
          "metadata": {
            "tags": []
          },
          "execution_count": 81
        }
      ]
    },
    {
      "cell_type": "code",
      "metadata": {
        "colab": {
          "base_uri": "https://localhost:8080/",
          "height": 191
        },
        "id": "QjqU1Acs-Gcb",
        "outputId": "928a544e-009b-45ff-8670-d060bfd98248"
      },
      "source": [
        "python_df.rename(columns={'Country': 'NumRespondents', 'LanguageWorkedWith': 'NumKnowsPython'}, inplace=True)\n",
        "python_df.head()"
      ],
      "execution_count": 83,
      "outputs": [
        {
          "output_type": "execute_result",
          "data": {
            "text/html": [
              "<div>\n",
              "<style scoped>\n",
              "    .dataframe tbody tr th:only-of-type {\n",
              "        vertical-align: middle;\n",
              "    }\n",
              "\n",
              "    .dataframe tbody tr th {\n",
              "        vertical-align: top;\n",
              "    }\n",
              "\n",
              "    .dataframe thead th {\n",
              "        text-align: right;\n",
              "    }\n",
              "</style>\n",
              "<table border=\"1\" class=\"dataframe\">\n",
              "  <thead>\n",
              "    <tr style=\"text-align: right;\">\n",
              "      <th></th>\n",
              "      <th>NumRespondents</th>\n",
              "      <th>NumKnowsPython</th>\n",
              "    </tr>\n",
              "  </thead>\n",
              "  <tbody>\n",
              "    <tr>\n",
              "      <th>United States</th>\n",
              "      <td>11109</td>\n",
              "      <td>5372</td>\n",
              "    </tr>\n",
              "    <tr>\n",
              "      <th>India</th>\n",
              "      <td>7301</td>\n",
              "      <td>2367</td>\n",
              "    </tr>\n",
              "    <tr>\n",
              "      <th>United Kingdom</th>\n",
              "      <td>3474</td>\n",
              "      <td>1453</td>\n",
              "    </tr>\n",
              "    <tr>\n",
              "      <th>Germany</th>\n",
              "      <td>3429</td>\n",
              "      <td>1527</td>\n",
              "    </tr>\n",
              "    <tr>\n",
              "      <th>Canada</th>\n",
              "      <td>1953</td>\n",
              "      <td>911</td>\n",
              "    </tr>\n",
              "  </tbody>\n",
              "</table>\n",
              "</div>"
            ],
            "text/plain": [
              "                NumRespondents  NumKnowsPython\n",
              "United States            11109            5372\n",
              "India                     7301            2367\n",
              "United Kingdom            3474            1453\n",
              "Germany                   3429            1527\n",
              "Canada                    1953             911"
            ]
          },
          "metadata": {
            "tags": []
          },
          "execution_count": 83
        }
      ]
    },
    {
      "cell_type": "code",
      "metadata": {
        "colab": {
          "base_uri": "https://localhost:8080/",
          "height": 191
        },
        "id": "A1JdsbHIYHi4",
        "outputId": "113f1980-9c6b-409b-fb7b-c36b30e7b676"
      },
      "source": [
        "python_df['PctKnowsPython'] = (python_df.NumKnowsPython / python_df.NumRespondents) * 100\n",
        "python_df.head()"
      ],
      "execution_count": 86,
      "outputs": [
        {
          "output_type": "execute_result",
          "data": {
            "text/html": [
              "<div>\n",
              "<style scoped>\n",
              "    .dataframe tbody tr th:only-of-type {\n",
              "        vertical-align: middle;\n",
              "    }\n",
              "\n",
              "    .dataframe tbody tr th {\n",
              "        vertical-align: top;\n",
              "    }\n",
              "\n",
              "    .dataframe thead th {\n",
              "        text-align: right;\n",
              "    }\n",
              "</style>\n",
              "<table border=\"1\" class=\"dataframe\">\n",
              "  <thead>\n",
              "    <tr style=\"text-align: right;\">\n",
              "      <th></th>\n",
              "      <th>NumRespondents</th>\n",
              "      <th>NumKnowsPython</th>\n",
              "      <th>PctKnowsPython</th>\n",
              "    </tr>\n",
              "  </thead>\n",
              "  <tbody>\n",
              "    <tr>\n",
              "      <th>United States</th>\n",
              "      <td>11109</td>\n",
              "      <td>5372</td>\n",
              "      <td>48.357188</td>\n",
              "    </tr>\n",
              "    <tr>\n",
              "      <th>India</th>\n",
              "      <td>7301</td>\n",
              "      <td>2367</td>\n",
              "      <td>32.420216</td>\n",
              "    </tr>\n",
              "    <tr>\n",
              "      <th>United Kingdom</th>\n",
              "      <td>3474</td>\n",
              "      <td>1453</td>\n",
              "      <td>41.824986</td>\n",
              "    </tr>\n",
              "    <tr>\n",
              "      <th>Germany</th>\n",
              "      <td>3429</td>\n",
              "      <td>1527</td>\n",
              "      <td>44.531934</td>\n",
              "    </tr>\n",
              "    <tr>\n",
              "      <th>Canada</th>\n",
              "      <td>1953</td>\n",
              "      <td>911</td>\n",
              "      <td>46.646185</td>\n",
              "    </tr>\n",
              "  </tbody>\n",
              "</table>\n",
              "</div>"
            ],
            "text/plain": [
              "                NumRespondents  NumKnowsPython  PctKnowsPython\n",
              "United States            11109            5372       48.357188\n",
              "India                     7301            2367       32.420216\n",
              "United Kingdom            3474            1453       41.824986\n",
              "Germany                   3429            1527       44.531934\n",
              "Canada                    1953             911       46.646185"
            ]
          },
          "metadata": {
            "tags": []
          },
          "execution_count": 86
        }
      ]
    },
    {
      "cell_type": "code",
      "metadata": {
        "colab": {
          "base_uri": "https://localhost:8080/",
          "height": 391
        },
        "id": "CmA4JgnEZeAB",
        "outputId": "00e31714-3770-4c68-a3b7-e0687046a473"
      },
      "source": [
        "python_df.sort_values(by = 'PctKnowsPython', ascending=False, inplace=True)\n",
        "python_df"
      ],
      "execution_count": 88,
      "outputs": [
        {
          "output_type": "execute_result",
          "data": {
            "text/html": [
              "<div>\n",
              "<style scoped>\n",
              "    .dataframe tbody tr th:only-of-type {\n",
              "        vertical-align: middle;\n",
              "    }\n",
              "\n",
              "    .dataframe tbody tr th {\n",
              "        vertical-align: top;\n",
              "    }\n",
              "\n",
              "    .dataframe thead th {\n",
              "        text-align: right;\n",
              "    }\n",
              "</style>\n",
              "<table border=\"1\" class=\"dataframe\">\n",
              "  <thead>\n",
              "    <tr style=\"text-align: right;\">\n",
              "      <th></th>\n",
              "      <th>NumRespondents</th>\n",
              "      <th>NumKnowsPython</th>\n",
              "      <th>PctKnowsPython</th>\n",
              "    </tr>\n",
              "  </thead>\n",
              "  <tbody>\n",
              "    <tr>\n",
              "      <th>Micronesia, Federated States of...</th>\n",
              "      <td>1</td>\n",
              "      <td>1</td>\n",
              "      <td>100.000000</td>\n",
              "    </tr>\n",
              "    <tr>\n",
              "      <th>Solomon Islands</th>\n",
              "      <td>1</td>\n",
              "      <td>1</td>\n",
              "      <td>100.000000</td>\n",
              "    </tr>\n",
              "    <tr>\n",
              "      <th>Saint Lucia</th>\n",
              "      <td>1</td>\n",
              "      <td>1</td>\n",
              "      <td>100.000000</td>\n",
              "    </tr>\n",
              "    <tr>\n",
              "      <th>Montenegro</th>\n",
              "      <td>10</td>\n",
              "      <td>8</td>\n",
              "      <td>80.000000</td>\n",
              "    </tr>\n",
              "    <tr>\n",
              "      <th>Brunei Darussalam</th>\n",
              "      <td>3</td>\n",
              "      <td>2</td>\n",
              "      <td>66.666667</td>\n",
              "    </tr>\n",
              "    <tr>\n",
              "      <th>...</th>\n",
              "      <td>...</td>\n",
              "      <td>...</td>\n",
              "      <td>...</td>\n",
              "    </tr>\n",
              "    <tr>\n",
              "      <th>Nauru</th>\n",
              "      <td>1</td>\n",
              "      <td>0</td>\n",
              "      <td>0.000000</td>\n",
              "    </tr>\n",
              "    <tr>\n",
              "      <th>Liechtenstein</th>\n",
              "      <td>1</td>\n",
              "      <td>0</td>\n",
              "      <td>0.000000</td>\n",
              "    </tr>\n",
              "    <tr>\n",
              "      <th>Grenada</th>\n",
              "      <td>1</td>\n",
              "      <td>0</td>\n",
              "      <td>0.000000</td>\n",
              "    </tr>\n",
              "    <tr>\n",
              "      <th>Niger</th>\n",
              "      <td>4</td>\n",
              "      <td>0</td>\n",
              "      <td>0.000000</td>\n",
              "    </tr>\n",
              "    <tr>\n",
              "      <th>Monaco</th>\n",
              "      <td>1</td>\n",
              "      <td>0</td>\n",
              "      <td>0.000000</td>\n",
              "    </tr>\n",
              "  </tbody>\n",
              "</table>\n",
              "<p>180 rows × 3 columns</p>\n",
              "</div>"
            ],
            "text/plain": [
              "                                    NumRespondents  NumKnowsPython  \\\n",
              "Micronesia, Federated States of...               1               1   \n",
              "Solomon Islands                                  1               1   \n",
              "Saint Lucia                                      1               1   \n",
              "Montenegro                                      10               8   \n",
              "Brunei Darussalam                                3               2   \n",
              "...                                            ...             ...   \n",
              "Nauru                                            1               0   \n",
              "Liechtenstein                                    1               0   \n",
              "Grenada                                          1               0   \n",
              "Niger                                            4               0   \n",
              "Monaco                                           1               0   \n",
              "\n",
              "                                    PctKnowsPython  \n",
              "Micronesia, Federated States of...      100.000000  \n",
              "Solomon Islands                         100.000000  \n",
              "Saint Lucia                             100.000000  \n",
              "Montenegro                               80.000000  \n",
              "Brunei Darussalam                        66.666667  \n",
              "...                                            ...  \n",
              "Nauru                                     0.000000  \n",
              "Liechtenstein                             0.000000  \n",
              "Grenada                                   0.000000  \n",
              "Niger                                     0.000000  \n",
              "Monaco                                    0.000000  \n",
              "\n",
              "[180 rows x 3 columns]"
            ]
          },
          "metadata": {
            "tags": []
          },
          "execution_count": 88
        }
      ]
    },
    {
      "cell_type": "code",
      "metadata": {
        "colab": {
          "base_uri": "https://localhost:8080/"
        },
        "id": "yuL4PXGVZuaW",
        "outputId": "2241cc77-b41a-4603-e241-42413de70665"
      },
      "source": [
        "python_df.PctKnowsPython.sort_values(ascending=False)"
      ],
      "execution_count": 89,
      "outputs": [
        {
          "output_type": "execute_result",
          "data": {
            "text/plain": [
              "Micronesia, Federated States of...    100.000000\n",
              "Solomon Islands                       100.000000\n",
              "Saint Lucia                           100.000000\n",
              "Montenegro                             80.000000\n",
              "Brunei Darussalam                      66.666667\n",
              "                                         ...    \n",
              "Antigua and Barbuda                     0.000000\n",
              "Saint Vincent and the Grenadines        0.000000\n",
              "Guinea                                  0.000000\n",
              "Lesotho                                 0.000000\n",
              "Monaco                                  0.000000\n",
              "Name: PctKnowsPython, Length: 180, dtype: float64"
            ]
          },
          "metadata": {
            "tags": []
          },
          "execution_count": 89
        }
      ]
    },
    {
      "cell_type": "code",
      "metadata": {
        "colab": {
          "base_uri": "https://localhost:8080/",
          "height": 1000
        },
        "id": "7_BYkevyZYZv",
        "outputId": "92c8a3b5-6fb4-4bc2-85e8-2165832dcfc8"
      },
      "source": [
        "python_df.head(50)"
      ],
      "execution_count": 90,
      "outputs": [
        {
          "output_type": "execute_result",
          "data": {
            "text/html": [
              "<div>\n",
              "<style scoped>\n",
              "    .dataframe tbody tr th:only-of-type {\n",
              "        vertical-align: middle;\n",
              "    }\n",
              "\n",
              "    .dataframe tbody tr th {\n",
              "        vertical-align: top;\n",
              "    }\n",
              "\n",
              "    .dataframe thead th {\n",
              "        text-align: right;\n",
              "    }\n",
              "</style>\n",
              "<table border=\"1\" class=\"dataframe\">\n",
              "  <thead>\n",
              "    <tr style=\"text-align: right;\">\n",
              "      <th></th>\n",
              "      <th>NumRespondents</th>\n",
              "      <th>NumKnowsPython</th>\n",
              "      <th>PctKnowsPython</th>\n",
              "    </tr>\n",
              "  </thead>\n",
              "  <tbody>\n",
              "    <tr>\n",
              "      <th>Micronesia, Federated States of...</th>\n",
              "      <td>1</td>\n",
              "      <td>1</td>\n",
              "      <td>100.000000</td>\n",
              "    </tr>\n",
              "    <tr>\n",
              "      <th>Solomon Islands</th>\n",
              "      <td>1</td>\n",
              "      <td>1</td>\n",
              "      <td>100.000000</td>\n",
              "    </tr>\n",
              "    <tr>\n",
              "      <th>Saint Lucia</th>\n",
              "      <td>1</td>\n",
              "      <td>1</td>\n",
              "      <td>100.000000</td>\n",
              "    </tr>\n",
              "    <tr>\n",
              "      <th>Montenegro</th>\n",
              "      <td>10</td>\n",
              "      <td>8</td>\n",
              "      <td>80.000000</td>\n",
              "    </tr>\n",
              "    <tr>\n",
              "      <th>Brunei Darussalam</th>\n",
              "      <td>3</td>\n",
              "      <td>2</td>\n",
              "      <td>66.666667</td>\n",
              "    </tr>\n",
              "    <tr>\n",
              "      <th>Mauritania</th>\n",
              "      <td>3</td>\n",
              "      <td>2</td>\n",
              "      <td>66.666667</td>\n",
              "    </tr>\n",
              "    <tr>\n",
              "      <th>Burkina Faso</th>\n",
              "      <td>5</td>\n",
              "      <td>3</td>\n",
              "      <td>60.000000</td>\n",
              "    </tr>\n",
              "    <tr>\n",
              "      <th>Lao People's Democratic Republic</th>\n",
              "      <td>5</td>\n",
              "      <td>3</td>\n",
              "      <td>60.000000</td>\n",
              "    </tr>\n",
              "    <tr>\n",
              "      <th>Swaziland</th>\n",
              "      <td>5</td>\n",
              "      <td>3</td>\n",
              "      <td>60.000000</td>\n",
              "    </tr>\n",
              "    <tr>\n",
              "      <th>Uganda</th>\n",
              "      <td>59</td>\n",
              "      <td>32</td>\n",
              "      <td>54.237288</td>\n",
              "    </tr>\n",
              "    <tr>\n",
              "      <th>Finland</th>\n",
              "      <td>312</td>\n",
              "      <td>167</td>\n",
              "      <td>53.525641</td>\n",
              "    </tr>\n",
              "    <tr>\n",
              "      <th>Iceland</th>\n",
              "      <td>51</td>\n",
              "      <td>27</td>\n",
              "      <td>52.941176</td>\n",
              "    </tr>\n",
              "    <tr>\n",
              "      <th>Cameroon</th>\n",
              "      <td>29</td>\n",
              "      <td>15</td>\n",
              "      <td>51.724138</td>\n",
              "    </tr>\n",
              "    <tr>\n",
              "      <th>Eritrea</th>\n",
              "      <td>2</td>\n",
              "      <td>1</td>\n",
              "      <td>50.000000</td>\n",
              "    </tr>\n",
              "    <tr>\n",
              "      <th>Papua New Guinea</th>\n",
              "      <td>2</td>\n",
              "      <td>1</td>\n",
              "      <td>50.000000</td>\n",
              "    </tr>\n",
              "    <tr>\n",
              "      <th>Guyana</th>\n",
              "      <td>4</td>\n",
              "      <td>2</td>\n",
              "      <td>50.000000</td>\n",
              "    </tr>\n",
              "    <tr>\n",
              "      <th>Jamaica</th>\n",
              "      <td>10</td>\n",
              "      <td>5</td>\n",
              "      <td>50.000000</td>\n",
              "    </tr>\n",
              "    <tr>\n",
              "      <th>Trinidad and Tobago</th>\n",
              "      <td>6</td>\n",
              "      <td>3</td>\n",
              "      <td>50.000000</td>\n",
              "    </tr>\n",
              "    <tr>\n",
              "      <th>Timor-Leste</th>\n",
              "      <td>2</td>\n",
              "      <td>1</td>\n",
              "      <td>50.000000</td>\n",
              "    </tr>\n",
              "    <tr>\n",
              "      <th>Ecuador</th>\n",
              "      <td>41</td>\n",
              "      <td>20</td>\n",
              "      <td>48.780488</td>\n",
              "    </tr>\n",
              "    <tr>\n",
              "      <th>United States</th>\n",
              "      <td>11109</td>\n",
              "      <td>5372</td>\n",
              "      <td>48.357188</td>\n",
              "    </tr>\n",
              "    <tr>\n",
              "      <th>Costa Rica</th>\n",
              "      <td>60</td>\n",
              "      <td>29</td>\n",
              "      <td>48.333333</td>\n",
              "    </tr>\n",
              "    <tr>\n",
              "      <th>Zimbabwe</th>\n",
              "      <td>27</td>\n",
              "      <td>13</td>\n",
              "      <td>48.148148</td>\n",
              "    </tr>\n",
              "    <tr>\n",
              "      <th>Senegal</th>\n",
              "      <td>19</td>\n",
              "      <td>9</td>\n",
              "      <td>47.368421</td>\n",
              "    </tr>\n",
              "    <tr>\n",
              "      <th>Israel</th>\n",
              "      <td>588</td>\n",
              "      <td>277</td>\n",
              "      <td>47.108844</td>\n",
              "    </tr>\n",
              "    <tr>\n",
              "      <th>Qatar</th>\n",
              "      <td>17</td>\n",
              "      <td>8</td>\n",
              "      <td>47.058824</td>\n",
              "    </tr>\n",
              "    <tr>\n",
              "      <th>China</th>\n",
              "      <td>286</td>\n",
              "      <td>134</td>\n",
              "      <td>46.853147</td>\n",
              "    </tr>\n",
              "    <tr>\n",
              "      <th>Canada</th>\n",
              "      <td>1953</td>\n",
              "      <td>911</td>\n",
              "      <td>46.646185</td>\n",
              "    </tr>\n",
              "    <tr>\n",
              "      <th>Taiwan</th>\n",
              "      <td>142</td>\n",
              "      <td>66</td>\n",
              "      <td>46.478873</td>\n",
              "    </tr>\n",
              "    <tr>\n",
              "      <th>Estonia</th>\n",
              "      <td>134</td>\n",
              "      <td>62</td>\n",
              "      <td>46.268657</td>\n",
              "    </tr>\n",
              "    <tr>\n",
              "      <th>Côte d'Ivoire</th>\n",
              "      <td>13</td>\n",
              "      <td>6</td>\n",
              "      <td>46.153846</td>\n",
              "    </tr>\n",
              "    <tr>\n",
              "      <th>Japan</th>\n",
              "      <td>256</td>\n",
              "      <td>118</td>\n",
              "      <td>46.093750</td>\n",
              "    </tr>\n",
              "    <tr>\n",
              "      <th>Algeria</th>\n",
              "      <td>68</td>\n",
              "      <td>31</td>\n",
              "      <td>45.588235</td>\n",
              "    </tr>\n",
              "    <tr>\n",
              "      <th>Ireland</th>\n",
              "      <td>407</td>\n",
              "      <td>185</td>\n",
              "      <td>45.454545</td>\n",
              "    </tr>\n",
              "    <tr>\n",
              "      <th>France</th>\n",
              "      <td>1646</td>\n",
              "      <td>743</td>\n",
              "      <td>45.139733</td>\n",
              "    </tr>\n",
              "    <tr>\n",
              "      <th>Germany</th>\n",
              "      <td>3429</td>\n",
              "      <td>1527</td>\n",
              "      <td>44.531934</td>\n",
              "    </tr>\n",
              "    <tr>\n",
              "      <th>Australia</th>\n",
              "      <td>1092</td>\n",
              "      <td>486</td>\n",
              "      <td>44.505495</td>\n",
              "    </tr>\n",
              "    <tr>\n",
              "      <th>Malta</th>\n",
              "      <td>43</td>\n",
              "      <td>19</td>\n",
              "      <td>44.186047</td>\n",
              "    </tr>\n",
              "    <tr>\n",
              "      <th>Switzerland</th>\n",
              "      <td>572</td>\n",
              "      <td>252</td>\n",
              "      <td>44.055944</td>\n",
              "    </tr>\n",
              "    <tr>\n",
              "      <th>Singapore</th>\n",
              "      <td>209</td>\n",
              "      <td>92</td>\n",
              "      <td>44.019139</td>\n",
              "    </tr>\n",
              "    <tr>\n",
              "      <th>Venezuela, Bolivarian Republic of...</th>\n",
              "      <td>50</td>\n",
              "      <td>22</td>\n",
              "      <td>44.000000</td>\n",
              "    </tr>\n",
              "    <tr>\n",
              "      <th>Slovenia</th>\n",
              "      <td>141</td>\n",
              "      <td>61</td>\n",
              "      <td>43.262411</td>\n",
              "    </tr>\n",
              "    <tr>\n",
              "      <th>Benin</th>\n",
              "      <td>7</td>\n",
              "      <td>3</td>\n",
              "      <td>42.857143</td>\n",
              "    </tr>\n",
              "    <tr>\n",
              "      <th>Democratic Republic of the Congo</th>\n",
              "      <td>7</td>\n",
              "      <td>3</td>\n",
              "      <td>42.857143</td>\n",
              "    </tr>\n",
              "    <tr>\n",
              "      <th>Norway</th>\n",
              "      <td>339</td>\n",
              "      <td>144</td>\n",
              "      <td>42.477876</td>\n",
              "    </tr>\n",
              "    <tr>\n",
              "      <th>South Korea</th>\n",
              "      <td>174</td>\n",
              "      <td>73</td>\n",
              "      <td>41.954023</td>\n",
              "    </tr>\n",
              "    <tr>\n",
              "      <th>United Kingdom</th>\n",
              "      <td>3474</td>\n",
              "      <td>1453</td>\n",
              "      <td>41.824986</td>\n",
              "    </tr>\n",
              "    <tr>\n",
              "      <th>Syrian Arab Republic</th>\n",
              "      <td>12</td>\n",
              "      <td>5</td>\n",
              "      <td>41.666667</td>\n",
              "    </tr>\n",
              "    <tr>\n",
              "      <th>Kenya</th>\n",
              "      <td>221</td>\n",
              "      <td>92</td>\n",
              "      <td>41.628959</td>\n",
              "    </tr>\n",
              "    <tr>\n",
              "      <th>Netherlands</th>\n",
              "      <td>1174</td>\n",
              "      <td>487</td>\n",
              "      <td>41.482112</td>\n",
              "    </tr>\n",
              "  </tbody>\n",
              "</table>\n",
              "</div>"
            ],
            "text/plain": [
              "                                      NumRespondents  NumKnowsPython  \\\n",
              "Micronesia, Federated States of...                 1               1   \n",
              "Solomon Islands                                    1               1   \n",
              "Saint Lucia                                        1               1   \n",
              "Montenegro                                        10               8   \n",
              "Brunei Darussalam                                  3               2   \n",
              "Mauritania                                         3               2   \n",
              "Burkina Faso                                       5               3   \n",
              "Lao People's Democratic Republic                   5               3   \n",
              "Swaziland                                          5               3   \n",
              "Uganda                                            59              32   \n",
              "Finland                                          312             167   \n",
              "Iceland                                           51              27   \n",
              "Cameroon                                          29              15   \n",
              "Eritrea                                            2               1   \n",
              "Papua New Guinea                                   2               1   \n",
              "Guyana                                             4               2   \n",
              "Jamaica                                           10               5   \n",
              "Trinidad and Tobago                                6               3   \n",
              "Timor-Leste                                        2               1   \n",
              "Ecuador                                           41              20   \n",
              "United States                                  11109            5372   \n",
              "Costa Rica                                        60              29   \n",
              "Zimbabwe                                          27              13   \n",
              "Senegal                                           19               9   \n",
              "Israel                                           588             277   \n",
              "Qatar                                             17               8   \n",
              "China                                            286             134   \n",
              "Canada                                          1953             911   \n",
              "Taiwan                                           142              66   \n",
              "Estonia                                          134              62   \n",
              "Côte d'Ivoire                                     13               6   \n",
              "Japan                                            256             118   \n",
              "Algeria                                           68              31   \n",
              "Ireland                                          407             185   \n",
              "France                                          1646             743   \n",
              "Germany                                         3429            1527   \n",
              "Australia                                       1092             486   \n",
              "Malta                                             43              19   \n",
              "Switzerland                                      572             252   \n",
              "Singapore                                        209              92   \n",
              "Venezuela, Bolivarian Republic of...              50              22   \n",
              "Slovenia                                         141              61   \n",
              "Benin                                              7               3   \n",
              "Democratic Republic of the Congo                   7               3   \n",
              "Norway                                           339             144   \n",
              "South Korea                                      174              73   \n",
              "United Kingdom                                  3474            1453   \n",
              "Syrian Arab Republic                              12               5   \n",
              "Kenya                                            221              92   \n",
              "Netherlands                                     1174             487   \n",
              "\n",
              "                                      PctKnowsPython  \n",
              "Micronesia, Federated States of...        100.000000  \n",
              "Solomon Islands                           100.000000  \n",
              "Saint Lucia                               100.000000  \n",
              "Montenegro                                 80.000000  \n",
              "Brunei Darussalam                          66.666667  \n",
              "Mauritania                                 66.666667  \n",
              "Burkina Faso                               60.000000  \n",
              "Lao People's Democratic Republic           60.000000  \n",
              "Swaziland                                  60.000000  \n",
              "Uganda                                     54.237288  \n",
              "Finland                                    53.525641  \n",
              "Iceland                                    52.941176  \n",
              "Cameroon                                   51.724138  \n",
              "Eritrea                                    50.000000  \n",
              "Papua New Guinea                           50.000000  \n",
              "Guyana                                     50.000000  \n",
              "Jamaica                                    50.000000  \n",
              "Trinidad and Tobago                        50.000000  \n",
              "Timor-Leste                                50.000000  \n",
              "Ecuador                                    48.780488  \n",
              "United States                              48.357188  \n",
              "Costa Rica                                 48.333333  \n",
              "Zimbabwe                                   48.148148  \n",
              "Senegal                                    47.368421  \n",
              "Israel                                     47.108844  \n",
              "Qatar                                      47.058824  \n",
              "China                                      46.853147  \n",
              "Canada                                     46.646185  \n",
              "Taiwan                                     46.478873  \n",
              "Estonia                                    46.268657  \n",
              "Côte d'Ivoire                              46.153846  \n",
              "Japan                                      46.093750  \n",
              "Algeria                                    45.588235  \n",
              "Ireland                                    45.454545  \n",
              "France                                     45.139733  \n",
              "Germany                                    44.531934  \n",
              "Australia                                  44.505495  \n",
              "Malta                                      44.186047  \n",
              "Switzerland                                44.055944  \n",
              "Singapore                                  44.019139  \n",
              "Venezuela, Bolivarian Republic of...       44.000000  \n",
              "Slovenia                                   43.262411  \n",
              "Benin                                      42.857143  \n",
              "Democratic Republic of the Congo           42.857143  \n",
              "Norway                                     42.477876  \n",
              "South Korea                                41.954023  \n",
              "United Kingdom                             41.824986  \n",
              "Syrian Arab Republic                       41.666667  \n",
              "Kenya                                      41.628959  \n",
              "Netherlands                                41.482112  "
            ]
          },
          "metadata": {
            "tags": []
          },
          "execution_count": 90
        }
      ]
    },
    {
      "cell_type": "code",
      "metadata": {
        "colab": {
          "base_uri": "https://localhost:8080/"
        },
        "id": "lEqxtyfRaS35",
        "outputId": "5ae4e4d4-b4e2-4f85-df4e-754e87fac91b"
      },
      "source": [
        "python_df.loc['India']"
      ],
      "execution_count": 91,
      "outputs": [
        {
          "output_type": "execute_result",
          "data": {
            "text/plain": [
              "NumRespondents    7301.000000\n",
              "NumKnowsPython    2367.000000\n",
              "PctKnowsPython      32.420216\n",
              "Name: India, dtype: float64"
            ]
          },
          "metadata": {
            "tags": []
          },
          "execution_count": 91
        }
      ]
    },
    {
      "cell_type": "code",
      "metadata": {
        "id": "J6WHISzO9AYA"
      },
      "source": [
        ""
      ],
      "execution_count": null,
      "outputs": []
    }
  ]
}